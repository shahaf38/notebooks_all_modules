{
 "cells": [
  {
   "cell_type": "code",
   "execution_count": 14,
   "id": "518478c0",
   "metadata": {},
   "outputs": [],
   "source": [
    "import sorting"
   ]
  },
  {
   "cell_type": "code",
   "execution_count": 17,
   "id": "aa5594db",
   "metadata": {},
   "outputs": [],
   "source": [
    "from sorting import *\n",
    "#from sorting import bubble_sort"
   ]
  },
  {
   "cell_type": "code",
   "execution_count": 21,
   "id": "acb1e423",
   "metadata": {},
   "outputs": [],
   "source": [
    "import sorting as s"
   ]
  },
  {
   "cell_type": "code",
   "execution_count": 22,
   "id": "c617b1c6",
   "metadata": {},
   "outputs": [
    {
     "data": {
      "text/plain": [
       "<function sorting.bubble_sort(tab)>"
      ]
     },
     "execution_count": 22,
     "metadata": {},
     "output_type": "execute_result"
    }
   ],
   "source": [
    "s.bubble_sort"
   ]
  },
  {
   "cell_type": "code",
   "execution_count": 12,
   "id": "38d6a456",
   "metadata": {},
   "outputs": [
    {
     "data": {
      "text/plain": [
       "<function sorting.bubble_sort(tab)>"
      ]
     },
     "execution_count": 12,
     "metadata": {},
     "output_type": "execute_result"
    }
   ],
   "source": [
    "arr = sort\n",
    "sorting.bubble_sort"
   ]
  },
  {
   "cell_type": "code",
   "execution_count": null,
   "id": "4811452c",
   "metadata": {},
   "outputs": [],
   "source": []
  }
 ],
 "metadata": {
  "kernelspec": {
   "display_name": "Python 3 (ipykernel)",
   "language": "python",
   "name": "python3"
  },
  "language_info": {
   "codemirror_mode": {
    "name": "ipython",
    "version": 3
   },
   "file_extension": ".py",
   "mimetype": "text/x-python",
   "name": "python",
   "nbconvert_exporter": "python",
   "pygments_lexer": "ipython3",
   "version": "3.10.12"
  }
 },
 "nbformat": 4,
 "nbformat_minor": 5
}
