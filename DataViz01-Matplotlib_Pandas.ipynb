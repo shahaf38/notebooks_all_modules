{
 "cells": [
  {
   "cell_type": "markdown",
   "metadata": {},
   "source": [
    "# Plotting with pandas\n",
    "\n",
    "It is time to learn how to plot with our favorite data wrangling tool : pandas 🐼.\n",
    "\n",
    "We will be using the open data powering https://www.rte-france.com/eco2mix website. \n",
    "\n",
    "The pre-processing of the data has been already done for you. All you need is to learn how read pickles from pandas!\n",
    "\n",
    "![pickles](https://static.wikia.nocookie.net/rickandmorty/images/4/41/Pickle_rick_transparent_edgetrimmed.png)\n"
   ]
  },
  {
   "cell_type": "markdown",
   "metadata": {},
   "source": [
    "## Exercise - setting up our (plotting) environment"
   ]
  },
  {
   "cell_type": "code",
   "execution_count": null,
   "metadata": {},
   "outputs": [],
   "source": [
    "# load pandas, matplotlib and setup your environment for bigger figures by default (check matplotlib's \"rcParams\")\n",
    "\n",
    "#ToDo"
   ]
  },
  {
   "cell_type": "markdown",
   "metadata": {},
   "source": [
    "## Exercise : loading the data from a pickle file"
   ]
  },
  {
   "cell_type": "code",
   "execution_count": null,
   "metadata": {},
   "outputs": [],
   "source": [
    "# Load from the pickle file eco2mix\n",
    "df = # ToDo\n",
    "\n",
    "\n",
    "\n",
    "df.sample(10) # take 10 samples at random"
   ]
  },
  {
   "cell_type": "markdown",
   "metadata": {},
   "source": [
    "# Plotting with Matplotlib\n",
    "\n",
    "\n",
    "##  Exercise -  Pie chart \n",
    "\n",
    "Choose a year in the data, and plot the share for each of the different energy sources, for example like this:\n",
    "\n",
    "<img src=\"./img/pie.png\" width=400px />\n"
   ]
  },
  {
   "cell_type": "code",
   "execution_count": null,
   "metadata": {},
   "outputs": [],
   "source": [
    "# Choose a year (ex: 2018) and plot the share that each of the different energy sources has in the total energy production:\n",
    "\n",
    "#ToDo"
   ]
  },
  {
   "cell_type": "markdown",
   "metadata": {},
   "source": [
    "## Exercise :  Horizontal Bar\n",
    "\n",
    "Use a horizontal bar chart instead of a pie to represent the previous data\n",
    "\n",
    "_Tip: When possible, try to replace pie charts with horizontal bar_"
   ]
  },
  {
   "cell_type": "code",
   "execution_count": null,
   "metadata": {},
   "outputs": [],
   "source": [
    "# When thinking about pie charts, give a try to horizontal bars.\n",
    "\n",
    "#ToDo"
   ]
  },
  {
   "cell_type": "markdown",
   "metadata": {},
   "source": [
    "## Exercise : Area chart\n",
    "\n",
    "Go ahead and explore trends in the evolution of the energy production with the help of an area chart"
   ]
  },
  {
   "cell_type": "code",
   "execution_count": null,
   "metadata": {},
   "outputs": [],
   "source": [
    "# Explore trends\n",
    "\n",
    "#ToDo"
   ]
  },
  {
   "cell_type": "markdown",
   "metadata": {},
   "source": [
    "## Exercise : Scatter Plot\n",
    "\n",
    "Scatter plots are helpful to put in evidence relationships between two variables. Can you find a data relationships and make it visible with a plot ?\n",
    "\n",
    "_Bonus: try Seaborn's joint plots_"
   ]
  },
  {
   "cell_type": "code",
   "execution_count": null,
   "metadata": {},
   "outputs": [],
   "source": [
    "# Explore relationships between variables with a scatter plot\n",
    "\n",
    "#ToDo"
   ]
  },
  {
   "cell_type": "code",
   "execution_count": null,
   "metadata": {},
   "outputs": [],
   "source": [
    "# let's use the amazing Seaborn library to plot even more insightfull scatter plots:\n",
    "import seaborn as sns # make sure you installed the library with pip or conda!\n",
    "\n",
    "# create a joint plot using Seaborn:\n",
    "\n",
    "#ToDo"
   ]
  },
  {
   "cell_type": "markdown",
   "metadata": {},
   "source": [
    "# Plotting with Plotly (optional)\n",
    "\n",
    "In order to go further you can start exploring an alternative ploting library: Plotly.\n",
    "\n",
    "Two possible ways of using plotly with pandas :\n",
    " - https://plotly.com/python/pandas-backend/\n",
    " - https://github.com/santosjorge/cufflinks\n",
    " - https://coderzcolumn.com/tutorials/data-science/cufflinks-how-to-create-plotly-charts-from-pandas-dataframe-with-one-line-of-code\n",
    " \n",
    "Repeat the previous exercises using the Plotly/Cufflinks backend for Pandas. \n",
    "\n",
    "Which library do you prefer ? Which plotly integration works better ?"
   ]
  },
  {
   "cell_type": "code",
   "execution_count": null,
   "metadata": {},
   "outputs": [],
   "source": []
  }
 ],
 "metadata": {
  "interpreter": {
   "hash": "916dbcbb3f70747c44a77c7bcd40155683ae19c65e1c03b4aa3499c5328201f1"
  },
  "kernelspec": {
   "display_name": "Python 3 (ipykernel)",
   "language": "python",
   "name": "python3"
  },
  "language_info": {
   "codemirror_mode": {
    "name": "ipython",
    "version": 3
   },
   "file_extension": ".py",
   "mimetype": "text/x-python",
   "name": "python",
   "nbconvert_exporter": "python",
   "pygments_lexer": "ipython3",
   "version": "3.10.12"
  },
  "toc": {
   "base_numbering": 1,
   "nav_menu": {},
   "number_sections": true,
   "sideBar": true,
   "skip_h1_title": false,
   "title_cell": "Table of Contents",
   "title_sidebar": "Contents",
   "toc_cell": false,
   "toc_position": {},
   "toc_section_display": true,
   "toc_window_display": true
  }
 },
 "nbformat": 4,
 "nbformat_minor": 4
}
