{
 "cells": [
  {
   "cell_type": "markdown",
   "metadata": {
    "tags": []
   },
   "source": [
    "# DataViz #4\n",
    "\n",
    "\n",
    "Air quality has a big impact over our health. In this notebook you will explore data about potentially harmfull emissions throughout the world.  \n",
    "The data is provided by OpenAQ which references air quality indicators from sensors disseminated in 49K locations in more than 150 countries around the world.  \n",
    "\n",
    "\n",
    "> \"OpenAQ is the Wikipedia of Air Quality.\"\n",
    "\n",
    "_IAN SCHULER  \n",
    "CEO / Development Seed / Washington, DC USA_"
   ]
  },
  {
   "cell_type": "markdown",
   "metadata": {
    "tags": []
   },
   "source": [
    "## API exploration and request\n",
    "\n",
    "### Resources\n",
    "\n",
    "- requests library https://requests.readthedocs.io/en/latest/user/quickstart/\n",
    "- le site OpenAQ: https://openaq.org/#/  \n",
    "- API docs  https://docs.openaq.org/  \n",
    "- API endpoints  https://docs.openaq.org/  \n",
    "\n",
    "### ToDo\n",
    "\n",
    "After installing `requests` use it to carry out API requests on the endpoints as discussed in the kit élève.\n",
    "\n",
    "- http://perdu.com\n",
    "- https://api.openaq.org/v2/summary\n"
   ]
  },
  {
   "cell_type": "code",
   "execution_count": 10,
   "metadata": {},
   "outputs": [],
   "source": [
    "# Install and import the python library 'requests'\n",
    "\n",
    "### Your code starts here\n",
    "\n",
    "### Your code ends here"
   ]
  },
  {
   "cell_type": "code",
   "execution_count": null,
   "metadata": {},
   "outputs": [],
   "source": [
    "# Use the 'get' method from the requests library for 'perdu.com', store the result in a variable named resp_1 and print out the status_code\n",
    "\n",
    "### Your code starts here\n",
    "resp_1 = \n",
    "resp_1_status_code = \n",
    "### Your code ends here\n",
    "\n",
    "print(f\"{resp_1_status_code = }\")\n",
    "print(f\"{resp_1.text = }\")"
   ]
  },
  {
   "cell_type": "markdown",
   "metadata": {},
   "source": [
    " "
   ]
  },
  {
   "cell_type": "markdown",
   "metadata": {},
   "source": [
    " "
   ]
  },
  {
   "cell_type": "markdown",
   "metadata": {},
   "source": [
    " "
   ]
  },
  {
   "cell_type": "markdown",
   "metadata": {},
   "source": [
    "Congratulations with carying out this first request!  \n",
    "Now let's get back to OpenAQ... "
   ]
  },
  {
   "cell_type": "code",
   "execution_count": null,
   "metadata": {},
   "outputs": [],
   "source": [
    "# In the following request we will retreive a json (JavaScript Object Notation) string\n",
    "# which we can then parse and handle in the same way as a Python dictionary!\n",
    "\n",
    "# the 'base_url' variable below is used as root from which all the other endpoints of the API can be accessed:\n",
    "base_url = \"https://api.openaq.org/v2\"\n",
    "# -> use the API endpoint which provides a \"summary\" of the data stored on OpenAQ's servers to complete the base_url\n",
    "endpoint = \n",
    "\n",
    "### Your code starts here\n",
    "resp_3 = \n",
    "resp_3_status_code = \n",
    "resp_3_json = \n",
    "### Your code ends here\n",
    "\n",
    "print(f\"{resp_3_status_code = }\\n\")\n",
    "print(f\"{isinstance(resp_3_json, dict) = }\\n\")\n",
    "print(f\"{resp_3_json = }\") "
   ]
  },
  {
   "cell_type": "markdown",
   "metadata": {},
   "source": [
    " "
   ]
  },
  {
   "cell_type": "markdown",
   "metadata": {},
   "source": [
    " "
   ]
  },
  {
   "cell_type": "markdown",
   "metadata": {},
   "source": [
    "This json object (or python dictionary) is already something, but why not make the data returned in the request even more intelligible and easy to process?! Now that the data is accessible locally in this notebook, we can take advantage of the entire processing power of python and the pandas library!"
   ]
  },
  {
   "cell_type": "code",
   "execution_count": null,
   "metadata": {},
   "outputs": [],
   "source": [
    "# Install and import the pandas library and create a dataframe from the 'results' list returned in the json object from the previous request\n",
    "\n",
    "### Your code starts here\n",
    "import ...\n",
    "df_summary = \n",
    "### Your code ends here\n",
    "\n",
    "print(f\"check: {all(df_summary.columns == ['count', 'cities', 'sources', 'countries', 'locations']) = }\")\n",
    "df_summary.head()"
   ]
  },
  {
   "cell_type": "markdown",
   "metadata": {},
   "source": [
    "Now you know the basics to interact with OpenAQ's API and retreive usefull data to answer all the questions you might be having about air quality throughout the world!  \n",
    "Don't hesitate to play around with the **'Try it out'** button in their API documentation, it will give you usefull information about how to write the urls for your particular requests."
   ]
  },
  {
   "cell_type": "markdown",
   "metadata": {},
   "source": [
    " "
   ]
  },
  {
   "cell_type": "markdown",
   "metadata": {},
   "source": [
    "## A vous de jouer!"
   ]
  },
  {
   "cell_type": "code",
   "execution_count": 1,
   "metadata": {},
   "outputs": [],
   "source": [
    "import requests\n",
    "import pandas as pd\n",
    "import matplotlib.pyplot as plt\n",
    "import plotly.express as px"
   ]
  },
  {
   "cell_type": "code",
   "execution_count": 2,
   "metadata": {},
   "outputs": [],
   "source": [
    "base_url = \"https://api.openaq.org/v2\""
   ]
  },
  {
   "cell_type": "code",
   "execution_count": null,
   "metadata": {},
   "outputs": [],
   "source": []
  },
  {
   "cell_type": "code",
   "execution_count": null,
   "metadata": {},
   "outputs": [],
   "source": []
  },
  {
   "cell_type": "code",
   "execution_count": null,
   "metadata": {
    "tags": []
   },
   "outputs": [],
   "source": []
  },
  {
   "cell_type": "code",
   "execution_count": null,
   "metadata": {},
   "outputs": [],
   "source": []
  },
  {
   "cell_type": "code",
   "execution_count": null,
   "metadata": {},
   "outputs": [],
   "source": []
  },
  {
   "cell_type": "code",
   "execution_count": null,
   "metadata": {},
   "outputs": [],
   "source": []
  }
 ],
 "metadata": {
  "kernelspec": {
   "display_name": "Python 3 (ipykernel)",
   "language": "python",
   "name": "python3"
  },
  "language_info": {
   "codemirror_mode": {
    "name": "ipython",
    "version": 3
   },
   "file_extension": ".py",
   "mimetype": "text/x-python",
   "name": "python",
   "nbconvert_exporter": "python",
   "pygments_lexer": "ipython3",
   "version": "3.10.6"
  }
 },
 "nbformat": 4,
 "nbformat_minor": 4
}
