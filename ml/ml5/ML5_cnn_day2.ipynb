{
 "cells": [
  {
   "cell_type": "code",
   "execution_count": 1,
   "metadata": {},
   "outputs": [
    {
     "name": "stdout",
     "output_type": "stream",
     "text": [
      "Requirement already satisfied: tensorflow in ./anaconda3/envs/keras_gpu/lib/python3.9/site-packages (2.15.0.post1)\n",
      "Requirement already satisfied: absl-py>=1.0.0 in ./anaconda3/envs/keras_gpu/lib/python3.9/site-packages (from tensorflow) (2.0.0)\n",
      "Requirement already satisfied: astunparse>=1.6.0 in ./anaconda3/envs/keras_gpu/lib/python3.9/site-packages (from tensorflow) (1.6.3)\n",
      "Requirement already satisfied: flatbuffers>=23.5.26 in ./anaconda3/envs/keras_gpu/lib/python3.9/site-packages (from tensorflow) (23.5.26)\n",
      "Requirement already satisfied: gast!=0.5.0,!=0.5.1,!=0.5.2,>=0.2.1 in ./anaconda3/envs/keras_gpu/lib/python3.9/site-packages (from tensorflow) (0.5.4)\n",
      "Requirement already satisfied: google-pasta>=0.1.1 in ./anaconda3/envs/keras_gpu/lib/python3.9/site-packages (from tensorflow) (0.2.0)\n",
      "Requirement already satisfied: h5py>=2.9.0 in ./anaconda3/envs/keras_gpu/lib/python3.9/site-packages (from tensorflow) (3.10.0)\n",
      "Requirement already satisfied: libclang>=13.0.0 in ./anaconda3/envs/keras_gpu/lib/python3.9/site-packages (from tensorflow) (16.0.6)\n",
      "Requirement already satisfied: ml-dtypes~=0.2.0 in ./anaconda3/envs/keras_gpu/lib/python3.9/site-packages (from tensorflow) (0.2.0)\n",
      "Requirement already satisfied: numpy<2.0.0,>=1.23.5 in ./anaconda3/envs/keras_gpu/lib/python3.9/site-packages (from tensorflow) (1.26.2)\n",
      "Requirement already satisfied: opt-einsum>=2.3.2 in ./anaconda3/envs/keras_gpu/lib/python3.9/site-packages (from tensorflow) (3.3.0)\n",
      "Requirement already satisfied: packaging in ./anaconda3/envs/keras_gpu/lib/python3.9/site-packages (from tensorflow) (23.1)\n",
      "Requirement already satisfied: protobuf!=4.21.0,!=4.21.1,!=4.21.2,!=4.21.3,!=4.21.4,!=4.21.5,<5.0.0dev,>=3.20.3 in ./anaconda3/envs/keras_gpu/lib/python3.9/site-packages (from tensorflow) (4.23.4)\n",
      "Requirement already satisfied: setuptools in ./anaconda3/envs/keras_gpu/lib/python3.9/site-packages (from tensorflow) (68.0.0)\n",
      "Requirement already satisfied: six>=1.12.0 in ./anaconda3/envs/keras_gpu/lib/python3.9/site-packages (from tensorflow) (1.16.0)\n",
      "Requirement already satisfied: termcolor>=1.1.0 in ./anaconda3/envs/keras_gpu/lib/python3.9/site-packages (from tensorflow) (2.4.0)\n",
      "Requirement already satisfied: typing-extensions>=3.6.6 in ./anaconda3/envs/keras_gpu/lib/python3.9/site-packages (from tensorflow) (4.7.1)\n",
      "Requirement already satisfied: wrapt<1.15,>=1.11.0 in ./anaconda3/envs/keras_gpu/lib/python3.9/site-packages (from tensorflow) (1.14.1)\n",
      "Requirement already satisfied: tensorflow-io-gcs-filesystem>=0.23.1 in ./anaconda3/envs/keras_gpu/lib/python3.9/site-packages (from tensorflow) (0.34.0)\n",
      "Requirement already satisfied: grpcio<2.0,>=1.24.3 in ./anaconda3/envs/keras_gpu/lib/python3.9/site-packages (from tensorflow) (1.60.0)\n",
      "Requirement already satisfied: tensorboard<2.16,>=2.15 in ./anaconda3/envs/keras_gpu/lib/python3.9/site-packages (from tensorflow) (2.15.1)\n",
      "Requirement already satisfied: tensorflow-estimator<2.16,>=2.15.0 in ./anaconda3/envs/keras_gpu/lib/python3.9/site-packages (from tensorflow) (2.15.0)\n",
      "Requirement already satisfied: keras<2.16,>=2.15.0 in ./anaconda3/envs/keras_gpu/lib/python3.9/site-packages (from tensorflow) (2.15.0)\n",
      "Requirement already satisfied: wheel<1.0,>=0.23.0 in ./anaconda3/envs/keras_gpu/lib/python3.9/site-packages (from astunparse>=1.6.0->tensorflow) (0.41.2)\n",
      "Requirement already satisfied: google-auth<3,>=1.6.3 in ./anaconda3/envs/keras_gpu/lib/python3.9/site-packages (from tensorboard<2.16,>=2.15->tensorflow) (2.25.2)\n",
      "Requirement already satisfied: google-auth-oauthlib<2,>=0.5 in ./anaconda3/envs/keras_gpu/lib/python3.9/site-packages (from tensorboard<2.16,>=2.15->tensorflow) (1.1.0)\n",
      "Requirement already satisfied: markdown>=2.6.8 in ./anaconda3/envs/keras_gpu/lib/python3.9/site-packages (from tensorboard<2.16,>=2.15->tensorflow) (3.5.1)\n",
      "Requirement already satisfied: requests<3,>=2.21.0 in ./anaconda3/envs/keras_gpu/lib/python3.9/site-packages (from tensorboard<2.16,>=2.15->tensorflow) (2.31.0)\n",
      "Requirement already satisfied: tensorboard-data-server<0.8.0,>=0.7.0 in ./anaconda3/envs/keras_gpu/lib/python3.9/site-packages (from tensorboard<2.16,>=2.15->tensorflow) (0.7.2)\n",
      "Requirement already satisfied: werkzeug>=1.0.1 in ./anaconda3/envs/keras_gpu/lib/python3.9/site-packages (from tensorboard<2.16,>=2.15->tensorflow) (3.0.1)\n",
      "Requirement already satisfied: cachetools<6.0,>=2.0.0 in ./anaconda3/envs/keras_gpu/lib/python3.9/site-packages (from google-auth<3,>=1.6.3->tensorboard<2.16,>=2.15->tensorflow) (5.3.2)\n",
      "Requirement already satisfied: pyasn1-modules>=0.2.1 in ./anaconda3/envs/keras_gpu/lib/python3.9/site-packages (from google-auth<3,>=1.6.3->tensorboard<2.16,>=2.15->tensorflow) (0.3.0)\n",
      "Requirement already satisfied: rsa<5,>=3.1.4 in ./anaconda3/envs/keras_gpu/lib/python3.9/site-packages (from google-auth<3,>=1.6.3->tensorboard<2.16,>=2.15->tensorflow) (4.9)\n",
      "Requirement already satisfied: requests-oauthlib>=0.7.0 in ./anaconda3/envs/keras_gpu/lib/python3.9/site-packages (from google-auth-oauthlib<2,>=0.5->tensorboard<2.16,>=2.15->tensorflow) (1.3.1)\n",
      "Requirement already satisfied: importlib-metadata>=4.4 in ./anaconda3/envs/keras_gpu/lib/python3.9/site-packages (from markdown>=2.6.8->tensorboard<2.16,>=2.15->tensorflow) (6.0.0)\n",
      "Requirement already satisfied: charset-normalizer<4,>=2 in ./anaconda3/envs/keras_gpu/lib/python3.9/site-packages (from requests<3,>=2.21.0->tensorboard<2.16,>=2.15->tensorflow) (3.3.2)\n",
      "Requirement already satisfied: idna<4,>=2.5 in ./anaconda3/envs/keras_gpu/lib/python3.9/site-packages (from requests<3,>=2.21.0->tensorboard<2.16,>=2.15->tensorflow) (3.6)\n",
      "Requirement already satisfied: urllib3<3,>=1.21.1 in ./anaconda3/envs/keras_gpu/lib/python3.9/site-packages (from requests<3,>=2.21.0->tensorboard<2.16,>=2.15->tensorflow) (2.1.0)\n",
      "Requirement already satisfied: certifi>=2017.4.17 in ./anaconda3/envs/keras_gpu/lib/python3.9/site-packages (from requests<3,>=2.21.0->tensorboard<2.16,>=2.15->tensorflow) (2023.11.17)\n",
      "Requirement already satisfied: MarkupSafe>=2.1.1 in ./anaconda3/envs/keras_gpu/lib/python3.9/site-packages (from werkzeug>=1.0.1->tensorboard<2.16,>=2.15->tensorflow) (2.1.3)\n",
      "Requirement already satisfied: zipp>=0.5 in ./anaconda3/envs/keras_gpu/lib/python3.9/site-packages (from importlib-metadata>=4.4->markdown>=2.6.8->tensorboard<2.16,>=2.15->tensorflow) (3.11.0)\n",
      "Requirement already satisfied: pyasn1<0.6.0,>=0.4.6 in ./anaconda3/envs/keras_gpu/lib/python3.9/site-packages (from pyasn1-modules>=0.2.1->google-auth<3,>=1.6.3->tensorboard<2.16,>=2.15->tensorflow) (0.5.1)\n",
      "Requirement already satisfied: oauthlib>=3.0.0 in ./anaconda3/envs/keras_gpu/lib/python3.9/site-packages (from requests-oauthlib>=0.7.0->google-auth-oauthlib<2,>=0.5->tensorboard<2.16,>=2.15->tensorflow) (3.2.2)\n",
      "Collecting jupyter\n",
      "  Using cached jupyter-1.0.0-py2.py3-none-any.whl (2.7 kB)\n",
      "Collecting notebook (from jupyter)\n",
      "  Using cached notebook-7.0.6-py3-none-any.whl.metadata (10 kB)\n",
      "Collecting qtconsole (from jupyter)\n",
      "  Using cached qtconsole-5.5.1-py3-none-any.whl.metadata (5.1 kB)\n",
      "Collecting jupyter-console (from jupyter)\n",
      "  Using cached jupyter_console-6.6.3-py3-none-any.whl (24 kB)\n",
      "Collecting nbconvert (from jupyter)\n",
      "  Using cached nbconvert-7.12.0-py3-none-any.whl.metadata (7.7 kB)\n",
      "Requirement already satisfied: ipykernel in ./anaconda3/envs/keras_gpu/lib/python3.9/site-packages (from jupyter) (6.25.0)\n",
      "Collecting ipywidgets (from jupyter)\n",
      "  Using cached ipywidgets-8.1.1-py3-none-any.whl.metadata (2.4 kB)\n",
      "Requirement already satisfied: comm>=0.1.1 in ./anaconda3/envs/keras_gpu/lib/python3.9/site-packages (from ipykernel->jupyter) (0.1.2)\n",
      "Requirement already satisfied: debugpy>=1.6.5 in ./anaconda3/envs/keras_gpu/lib/python3.9/site-packages (from ipykernel->jupyter) (1.6.7)\n",
      "Requirement already satisfied: ipython>=7.23.1 in ./anaconda3/envs/keras_gpu/lib/python3.9/site-packages (from ipykernel->jupyter) (8.15.0)\n",
      "Requirement already satisfied: jupyter-client>=6.1.12 in ./anaconda3/envs/keras_gpu/lib/python3.9/site-packages (from ipykernel->jupyter) (8.6.0)\n",
      "Requirement already satisfied: jupyter-core!=5.0.*,>=4.12 in ./anaconda3/envs/keras_gpu/lib/python3.9/site-packages (from ipykernel->jupyter) (5.5.0)\n",
      "Requirement already satisfied: matplotlib-inline>=0.1 in ./anaconda3/envs/keras_gpu/lib/python3.9/site-packages (from ipykernel->jupyter) (0.1.6)\n",
      "Requirement already satisfied: nest-asyncio in ./anaconda3/envs/keras_gpu/lib/python3.9/site-packages (from ipykernel->jupyter) (1.5.6)\n",
      "Requirement already satisfied: packaging in ./anaconda3/envs/keras_gpu/lib/python3.9/site-packages (from ipykernel->jupyter) (23.1)\n",
      "Requirement already satisfied: psutil in ./anaconda3/envs/keras_gpu/lib/python3.9/site-packages (from ipykernel->jupyter) (5.9.0)\n",
      "Requirement already satisfied: pyzmq>=20 in ./anaconda3/envs/keras_gpu/lib/python3.9/site-packages (from ipykernel->jupyter) (25.1.0)\n",
      "Requirement already satisfied: tornado>=6.1 in ./anaconda3/envs/keras_gpu/lib/python3.9/site-packages (from ipykernel->jupyter) (6.3.3)\n",
      "Requirement already satisfied: traitlets>=5.4.0 in ./anaconda3/envs/keras_gpu/lib/python3.9/site-packages (from ipykernel->jupyter) (5.7.1)\n",
      "Collecting comm>=0.1.1 (from ipykernel->jupyter)\n",
      "  Using cached comm-0.2.0-py3-none-any.whl.metadata (3.7 kB)\n",
      "Collecting widgetsnbextension~=4.0.9 (from ipywidgets->jupyter)\n",
      "  Using cached widgetsnbextension-4.0.9-py3-none-any.whl.metadata (1.6 kB)\n",
      "Collecting jupyterlab-widgets~=3.0.9 (from ipywidgets->jupyter)\n",
      "  Using cached jupyterlab_widgets-3.0.9-py3-none-any.whl.metadata (4.1 kB)\n",
      "Requirement already satisfied: prompt-toolkit>=3.0.30 in ./anaconda3/envs/keras_gpu/lib/python3.9/site-packages (from jupyter-console->jupyter) (3.0.36)\n",
      "Requirement already satisfied: pygments in ./anaconda3/envs/keras_gpu/lib/python3.9/site-packages (from jupyter-console->jupyter) (2.15.1)\n",
      "Collecting beautifulsoup4 (from nbconvert->jupyter)\n",
      "  Using cached beautifulsoup4-4.12.2-py3-none-any.whl (142 kB)\n",
      "Collecting bleach!=5.0.0 (from nbconvert->jupyter)\n",
      "  Using cached bleach-6.1.0-py3-none-any.whl.metadata (30 kB)\n",
      "Collecting defusedxml (from nbconvert->jupyter)\n",
      "  Using cached defusedxml-0.7.1-py2.py3-none-any.whl (25 kB)\n",
      "Requirement already satisfied: importlib-metadata>=3.6 in ./anaconda3/envs/keras_gpu/lib/python3.9/site-packages (from nbconvert->jupyter) (6.0.0)\n",
      "Collecting jinja2>=3.0 (from nbconvert->jupyter)\n",
      "  Using cached Jinja2-3.1.2-py3-none-any.whl (133 kB)\n",
      "Collecting jupyterlab-pygments (from nbconvert->jupyter)\n",
      "  Using cached jupyterlab_pygments-0.3.0-py3-none-any.whl.metadata (4.4 kB)\n",
      "Requirement already satisfied: markupsafe>=2.0 in ./anaconda3/envs/keras_gpu/lib/python3.9/site-packages (from nbconvert->jupyter) (2.1.3)\n",
      "Collecting mistune<4,>=2.0.3 (from nbconvert->jupyter)\n",
      "  Using cached mistune-3.0.2-py3-none-any.whl.metadata (1.7 kB)\n",
      "Collecting nbclient>=0.5.0 (from nbconvert->jupyter)\n",
      "  Using cached nbclient-0.9.0-py3-none-any.whl.metadata (7.8 kB)\n",
      "Requirement already satisfied: nbformat>=5.7 in ./anaconda3/envs/keras_gpu/lib/python3.9/site-packages (from nbconvert->jupyter) (5.9.2)\n",
      "Collecting pandocfilters>=1.4.1 (from nbconvert->jupyter)\n",
      "  Using cached pandocfilters-1.5.0-py2.py3-none-any.whl (8.7 kB)\n",
      "Collecting tinycss2 (from nbconvert->jupyter)\n",
      "  Using cached tinycss2-1.2.1-py3-none-any.whl (21 kB)\n",
      "Collecting jupyter-server<3,>=2.4.0 (from notebook->jupyter)\n",
      "  Using cached jupyter_server-2.12.1-py3-none-any.whl.metadata (8.4 kB)\n",
      "Collecting jupyterlab-server<3,>=2.22.1 (from notebook->jupyter)\n",
      "  Using cached jupyterlab_server-2.25.2-py3-none-any.whl.metadata (5.9 kB)\n",
      "Collecting jupyterlab<5,>=4.0.2 (from notebook->jupyter)\n",
      "  Using cached jupyterlab-4.0.9-py3-none-any.whl.metadata (15 kB)\n",
      "Collecting notebook-shim<0.3,>=0.2 (from notebook->jupyter)\n",
      "  Using cached notebook_shim-0.2.3-py3-none-any.whl (13 kB)\n",
      "Collecting qtpy>=2.4.0 (from qtconsole->jupyter)\n",
      "  Using cached QtPy-2.4.1-py3-none-any.whl.metadata (12 kB)\n",
      "Requirement already satisfied: six>=1.9.0 in ./anaconda3/envs/keras_gpu/lib/python3.9/site-packages (from bleach!=5.0.0->nbconvert->jupyter) (1.16.0)\n",
      "Collecting webencodings (from bleach!=5.0.0->nbconvert->jupyter)\n",
      "  Using cached webencodings-0.5.1-py2.py3-none-any.whl (11 kB)\n",
      "Requirement already satisfied: zipp>=0.5 in ./anaconda3/envs/keras_gpu/lib/python3.9/site-packages (from importlib-metadata>=3.6->nbconvert->jupyter) (3.11.0)\n",
      "Requirement already satisfied: backcall in ./anaconda3/envs/keras_gpu/lib/python3.9/site-packages (from ipython>=7.23.1->ipykernel->jupyter) (0.2.0)\n",
      "Requirement already satisfied: decorator in ./anaconda3/envs/keras_gpu/lib/python3.9/site-packages (from ipython>=7.23.1->ipykernel->jupyter) (5.1.1)\n",
      "Requirement already satisfied: jedi>=0.16 in ./anaconda3/envs/keras_gpu/lib/python3.9/site-packages (from ipython>=7.23.1->ipykernel->jupyter) (0.18.1)\n",
      "Requirement already satisfied: pickleshare in ./anaconda3/envs/keras_gpu/lib/python3.9/site-packages (from ipython>=7.23.1->ipykernel->jupyter) (0.7.5)\n",
      "Requirement already satisfied: stack-data in ./anaconda3/envs/keras_gpu/lib/python3.9/site-packages (from ipython>=7.23.1->ipykernel->jupyter) (0.2.0)\n",
      "Requirement already satisfied: typing-extensions in ./anaconda3/envs/keras_gpu/lib/python3.9/site-packages (from ipython>=7.23.1->ipykernel->jupyter) (4.7.1)\n",
      "Requirement already satisfied: exceptiongroup in ./anaconda3/envs/keras_gpu/lib/python3.9/site-packages (from ipython>=7.23.1->ipykernel->jupyter) (1.0.4)\n",
      "Requirement already satisfied: pexpect>4.3 in ./anaconda3/envs/keras_gpu/lib/python3.9/site-packages (from ipython>=7.23.1->ipykernel->jupyter) (4.8.0)\n",
      "Requirement already satisfied: python-dateutil>=2.8.2 in ./anaconda3/envs/keras_gpu/lib/python3.9/site-packages (from jupyter-client>=6.1.12->ipykernel->jupyter) (2.8.2)\n",
      "Requirement already satisfied: platformdirs>=2.5 in ./anaconda3/envs/keras_gpu/lib/python3.9/site-packages (from jupyter-core!=5.0.*,>=4.12->ipykernel->jupyter) (3.10.0)\n",
      "Collecting anyio>=3.1.0 (from jupyter-server<3,>=2.4.0->notebook->jupyter)\n",
      "  Downloading anyio-4.2.0-py3-none-any.whl.metadata (4.6 kB)\n",
      "Collecting argon2-cffi (from jupyter-server<3,>=2.4.0->notebook->jupyter)\n",
      "  Using cached argon2_cffi-23.1.0-py3-none-any.whl.metadata (5.2 kB)\n",
      "Collecting jupyter-events>=0.9.0 (from jupyter-server<3,>=2.4.0->notebook->jupyter)\n",
      "  Using cached jupyter_events-0.9.0-py3-none-any.whl.metadata (5.7 kB)\n",
      "Collecting jupyter-server-terminals (from jupyter-server<3,>=2.4.0->notebook->jupyter)\n",
      "  Using cached jupyter_server_terminals-0.5.0-py3-none-any.whl.metadata (5.6 kB)\n",
      "Collecting overrides (from jupyter-server<3,>=2.4.0->notebook->jupyter)\n",
      "  Using cached overrides-7.4.0-py3-none-any.whl.metadata (5.7 kB)\n",
      "Collecting prometheus-client (from jupyter-server<3,>=2.4.0->notebook->jupyter)\n",
      "  Using cached prometheus_client-0.19.0-py3-none-any.whl.metadata (1.8 kB)\n",
      "Collecting send2trash>=1.8.2 (from jupyter-server<3,>=2.4.0->notebook->jupyter)\n",
      "  Using cached Send2Trash-1.8.2-py3-none-any.whl (18 kB)\n",
      "Collecting terminado>=0.8.3 (from jupyter-server<3,>=2.4.0->notebook->jupyter)\n",
      "  Using cached terminado-0.18.0-py3-none-any.whl.metadata (5.8 kB)\n",
      "Collecting websocket-client (from jupyter-server<3,>=2.4.0->notebook->jupyter)\n",
      "  Using cached websocket_client-1.7.0-py3-none-any.whl.metadata (7.9 kB)\n",
      "Collecting async-lru>=1.0.0 (from jupyterlab<5,>=4.0.2->notebook->jupyter)\n",
      "  Using cached async_lru-2.0.4-py3-none-any.whl.metadata (4.5 kB)\n",
      "Collecting jupyter-lsp>=2.0.0 (from jupyterlab<5,>=4.0.2->notebook->jupyter)\n",
      "  Using cached jupyter_lsp-2.2.1-py3-none-any.whl.metadata (1.8 kB)\n",
      "Collecting tomli (from jupyterlab<5,>=4.0.2->notebook->jupyter)\n",
      "  Using cached tomli-2.0.1-py3-none-any.whl (12 kB)\n",
      "Collecting babel>=2.10 (from jupyterlab-server<3,>=2.22.1->notebook->jupyter)\n",
      "  Downloading Babel-2.14.0-py3-none-any.whl.metadata (1.6 kB)\n",
      "Collecting json5>=0.9.0 (from jupyterlab-server<3,>=2.22.1->notebook->jupyter)\n",
      "  Using cached json5-0.9.14-py2.py3-none-any.whl.metadata (10 kB)\n",
      "Requirement already satisfied: jsonschema>=4.18.0 in ./anaconda3/envs/keras_gpu/lib/python3.9/site-packages (from jupyterlab-server<3,>=2.22.1->notebook->jupyter) (4.20.0)\n",
      "Requirement already satisfied: requests>=2.31 in ./anaconda3/envs/keras_gpu/lib/python3.9/site-packages (from jupyterlab-server<3,>=2.22.1->notebook->jupyter) (2.31.0)\n",
      "Requirement already satisfied: fastjsonschema in ./anaconda3/envs/keras_gpu/lib/python3.9/site-packages (from nbformat>=5.7->nbconvert->jupyter) (2.19.0)\n",
      "Requirement already satisfied: wcwidth in ./anaconda3/envs/keras_gpu/lib/python3.9/site-packages (from prompt-toolkit>=3.0.30->jupyter-console->jupyter) (0.2.5)\n",
      "Collecting soupsieve>1.2 (from beautifulsoup4->nbconvert->jupyter)\n",
      "  Using cached soupsieve-2.5-py3-none-any.whl.metadata (4.7 kB)\n",
      "Requirement already satisfied: idna>=2.8 in ./anaconda3/envs/keras_gpu/lib/python3.9/site-packages (from anyio>=3.1.0->jupyter-server<3,>=2.4.0->notebook->jupyter) (3.6)\n",
      "Collecting sniffio>=1.1 (from anyio>=3.1.0->jupyter-server<3,>=2.4.0->notebook->jupyter)\n",
      "  Using cached sniffio-1.3.0-py3-none-any.whl (10 kB)\n",
      "Requirement already satisfied: parso<0.9.0,>=0.8.0 in ./anaconda3/envs/keras_gpu/lib/python3.9/site-packages (from jedi>=0.16->ipython>=7.23.1->ipykernel->jupyter) (0.8.3)\n",
      "Requirement already satisfied: attrs>=22.2.0 in ./anaconda3/envs/keras_gpu/lib/python3.9/site-packages (from jsonschema>=4.18.0->jupyterlab-server<3,>=2.22.1->notebook->jupyter) (23.1.0)\n",
      "Requirement already satisfied: jsonschema-specifications>=2023.03.6 in ./anaconda3/envs/keras_gpu/lib/python3.9/site-packages (from jsonschema>=4.18.0->jupyterlab-server<3,>=2.22.1->notebook->jupyter) (2023.11.2)\n",
      "Requirement already satisfied: referencing>=0.28.4 in ./anaconda3/envs/keras_gpu/lib/python3.9/site-packages (from jsonschema>=4.18.0->jupyterlab-server<3,>=2.22.1->notebook->jupyter) (0.32.0)\n",
      "Requirement already satisfied: rpds-py>=0.7.1 in ./anaconda3/envs/keras_gpu/lib/python3.9/site-packages (from jsonschema>=4.18.0->jupyterlab-server<3,>=2.22.1->notebook->jupyter) (0.13.2)\n",
      "Collecting python-json-logger>=2.0.4 (from jupyter-events>=0.9.0->jupyter-server<3,>=2.4.0->notebook->jupyter)\n",
      "  Using cached python_json_logger-2.0.7-py3-none-any.whl (8.1 kB)\n",
      "Collecting pyyaml>=5.3 (from jupyter-events>=0.9.0->jupyter-server<3,>=2.4.0->notebook->jupyter)\n",
      "  Using cached PyYAML-6.0.1-cp39-cp39-manylinux_2_17_x86_64.manylinux2014_x86_64.whl.metadata (2.1 kB)\n",
      "Collecting rfc3339-validator (from jupyter-events>=0.9.0->jupyter-server<3,>=2.4.0->notebook->jupyter)\n",
      "  Using cached rfc3339_validator-0.1.4-py2.py3-none-any.whl (3.5 kB)\n",
      "Collecting rfc3986-validator>=0.1.1 (from jupyter-events>=0.9.0->jupyter-server<3,>=2.4.0->notebook->jupyter)\n",
      "  Using cached rfc3986_validator-0.1.1-py2.py3-none-any.whl (4.2 kB)\n",
      "Requirement already satisfied: ptyprocess>=0.5 in ./anaconda3/envs/keras_gpu/lib/python3.9/site-packages (from pexpect>4.3->ipython>=7.23.1->ipykernel->jupyter) (0.7.0)\n",
      "Requirement already satisfied: charset-normalizer<4,>=2 in ./anaconda3/envs/keras_gpu/lib/python3.9/site-packages (from requests>=2.31->jupyterlab-server<3,>=2.22.1->notebook->jupyter) (3.3.2)\n",
      "Requirement already satisfied: urllib3<3,>=1.21.1 in ./anaconda3/envs/keras_gpu/lib/python3.9/site-packages (from requests>=2.31->jupyterlab-server<3,>=2.22.1->notebook->jupyter) (2.1.0)\n",
      "Requirement already satisfied: certifi>=2017.4.17 in ./anaconda3/envs/keras_gpu/lib/python3.9/site-packages (from requests>=2.31->jupyterlab-server<3,>=2.22.1->notebook->jupyter) (2023.11.17)\n",
      "Collecting argon2-cffi-bindings (from argon2-cffi->jupyter-server<3,>=2.4.0->notebook->jupyter)\n",
      "  Using cached argon2_cffi_bindings-21.2.0-cp36-abi3-manylinux_2_17_x86_64.manylinux2014_x86_64.whl (86 kB)\n",
      "Requirement already satisfied: executing in ./anaconda3/envs/keras_gpu/lib/python3.9/site-packages (from stack-data->ipython>=7.23.1->ipykernel->jupyter) (0.8.3)\n",
      "Requirement already satisfied: asttokens in ./anaconda3/envs/keras_gpu/lib/python3.9/site-packages (from stack-data->ipython>=7.23.1->ipykernel->jupyter) (2.0.5)\n",
      "Requirement already satisfied: pure-eval in ./anaconda3/envs/keras_gpu/lib/python3.9/site-packages (from stack-data->ipython>=7.23.1->ipykernel->jupyter) (0.2.2)\n",
      "Collecting fqdn (from jsonschema[format-nongpl]>=4.18.0->jupyter-events>=0.9.0->jupyter-server<3,>=2.4.0->notebook->jupyter)\n",
      "  Using cached fqdn-1.5.1-py3-none-any.whl (9.1 kB)\n",
      "Collecting isoduration (from jsonschema[format-nongpl]>=4.18.0->jupyter-events>=0.9.0->jupyter-server<3,>=2.4.0->notebook->jupyter)\n",
      "  Using cached isoduration-20.11.0-py3-none-any.whl (11 kB)\n",
      "Collecting jsonpointer>1.13 (from jsonschema[format-nongpl]>=4.18.0->jupyter-events>=0.9.0->jupyter-server<3,>=2.4.0->notebook->jupyter)\n",
      "  Using cached jsonpointer-2.4-py2.py3-none-any.whl.metadata (2.5 kB)\n",
      "Collecting uri-template (from jsonschema[format-nongpl]>=4.18.0->jupyter-events>=0.9.0->jupyter-server<3,>=2.4.0->notebook->jupyter)\n",
      "  Using cached uri_template-1.3.0-py3-none-any.whl.metadata (8.8 kB)\n",
      "Collecting webcolors>=1.11 (from jsonschema[format-nongpl]>=4.18.0->jupyter-events>=0.9.0->jupyter-server<3,>=2.4.0->notebook->jupyter)\n",
      "  Using cached webcolors-1.13-py3-none-any.whl (14 kB)\n",
      "Collecting cffi>=1.0.1 (from argon2-cffi-bindings->argon2-cffi->jupyter-server<3,>=2.4.0->notebook->jupyter)\n",
      "  Using cached cffi-1.16.0-cp39-cp39-manylinux_2_17_x86_64.manylinux2014_x86_64.whl.metadata (1.5 kB)\n",
      "Collecting pycparser (from cffi>=1.0.1->argon2-cffi-bindings->argon2-cffi->jupyter-server<3,>=2.4.0->notebook->jupyter)\n",
      "  Using cached pycparser-2.21-py2.py3-none-any.whl (118 kB)\n",
      "Collecting arrow>=0.15.0 (from isoduration->jsonschema[format-nongpl]>=4.18.0->jupyter-events>=0.9.0->jupyter-server<3,>=2.4.0->notebook->jupyter)\n",
      "  Using cached arrow-1.3.0-py3-none-any.whl.metadata (7.5 kB)\n",
      "Collecting types-python-dateutil>=2.8.10 (from arrow>=0.15.0->isoduration->jsonschema[format-nongpl]>=4.18.0->jupyter-events>=0.9.0->jupyter-server<3,>=2.4.0->notebook->jupyter)\n",
      "  Using cached types_python_dateutil-2.8.19.14-py3-none-any.whl.metadata (1.6 kB)\n",
      "Using cached ipywidgets-8.1.1-py3-none-any.whl (139 kB)\n",
      "Using cached nbconvert-7.12.0-py3-none-any.whl (256 kB)\n",
      "Using cached notebook-7.0.6-py3-none-any.whl (4.0 MB)\n",
      "Using cached qtconsole-5.5.1-py3-none-any.whl (123 kB)\n",
      "Using cached bleach-6.1.0-py3-none-any.whl (162 kB)\n",
      "Using cached comm-0.2.0-py3-none-any.whl (7.0 kB)\n",
      "Using cached jupyter_server-2.12.1-py3-none-any.whl (380 kB)\n",
      "Using cached jupyterlab-4.0.9-py3-none-any.whl (9.2 MB)\n",
      "Using cached jupyterlab_server-2.25.2-py3-none-any.whl (58 kB)\n",
      "Using cached jupyterlab_widgets-3.0.9-py3-none-any.whl (214 kB)\n",
      "Using cached mistune-3.0.2-py3-none-any.whl (47 kB)\n",
      "Using cached nbclient-0.9.0-py3-none-any.whl (24 kB)\n",
      "Using cached QtPy-2.4.1-py3-none-any.whl (93 kB)\n",
      "Using cached widgetsnbextension-4.0.9-py3-none-any.whl (2.3 MB)\n",
      "Using cached jupyterlab_pygments-0.3.0-py3-none-any.whl (15 kB)\n",
      "Downloading anyio-4.2.0-py3-none-any.whl (85 kB)\n",
      "\u001b[2K   \u001b[90m━━━━━━━━━━━━━━━━━━━━━━━━━━━━━━━━━━━━━━━━\u001b[0m \u001b[32m85.5/85.5 kB\u001b[0m \u001b[31m769.0 kB/s\u001b[0m eta \u001b[36m0:00:00\u001b[0m\u001b[36m0:00:01\u001b[0m\n",
      "\u001b[?25hUsing cached async_lru-2.0.4-py3-none-any.whl (6.1 kB)\n",
      "Downloading Babel-2.14.0-py3-none-any.whl (11.0 MB)\n",
      "\u001b[2K   \u001b[90m━━━━━━━━━━━━━━━━━━━━━━━━━━━━━━━━━━━━━━━━\u001b[0m \u001b[32m11.0/11.0 MB\u001b[0m \u001b[31m21.7 MB/s\u001b[0m eta \u001b[36m0:00:00\u001b[0m00:01\u001b[0m00:01\u001b[0m\n",
      "\u001b[?25hUsing cached json5-0.9.14-py2.py3-none-any.whl (19 kB)\n",
      "Using cached jupyter_events-0.9.0-py3-none-any.whl (18 kB)\n",
      "Using cached jupyter_lsp-2.2.1-py3-none-any.whl (66 kB)\n",
      "Using cached soupsieve-2.5-py3-none-any.whl (36 kB)\n",
      "Using cached terminado-0.18.0-py3-none-any.whl (14 kB)\n",
      "Using cached argon2_cffi-23.1.0-py3-none-any.whl (15 kB)\n",
      "Using cached jupyter_server_terminals-0.5.0-py3-none-any.whl (13 kB)\n",
      "Using cached overrides-7.4.0-py3-none-any.whl (17 kB)\n",
      "Using cached prometheus_client-0.19.0-py3-none-any.whl (54 kB)\n",
      "Using cached websocket_client-1.7.0-py3-none-any.whl (58 kB)\n",
      "Using cached PyYAML-6.0.1-cp39-cp39-manylinux_2_17_x86_64.manylinux2014_x86_64.whl (738 kB)\n",
      "Using cached cffi-1.16.0-cp39-cp39-manylinux_2_17_x86_64.manylinux2014_x86_64.whl (443 kB)\n",
      "Using cached jsonpointer-2.4-py2.py3-none-any.whl (7.8 kB)\n",
      "Using cached uri_template-1.3.0-py3-none-any.whl (11 kB)\n",
      "Using cached arrow-1.3.0-py3-none-any.whl (66 kB)\n",
      "Using cached types_python_dateutil-2.8.19.14-py3-none-any.whl (9.4 kB)\n",
      "Installing collected packages: webencodings, types-python-dateutil, json5, widgetsnbextension, websocket-client, webcolors, uri-template, tomli, tinycss2, terminado, soupsieve, sniffio, send2trash, rfc3986-validator, rfc3339-validator, qtpy, pyyaml, python-json-logger, pycparser, prometheus-client, pandocfilters, overrides, mistune, jupyterlab-widgets, jupyterlab-pygments, jsonpointer, jinja2, fqdn, defusedxml, comm, bleach, babel, async-lru, jupyter-server-terminals, cffi, beautifulsoup4, arrow, anyio, isoduration, argon2-cffi-bindings, ipywidgets, argon2-cffi, qtconsole, nbclient, jupyter-events, jupyter-console, nbconvert, jupyter-server, notebook-shim, jupyterlab-server, jupyter-lsp, jupyterlab, notebook, jupyter\n",
      "  Attempting uninstall: comm\n",
      "    Found existing installation: comm 0.1.2\n",
      "    Uninstalling comm-0.1.2:\n",
      "      Successfully uninstalled comm-0.1.2\n",
      "Successfully installed anyio-4.2.0 argon2-cffi-23.1.0 argon2-cffi-bindings-21.2.0 arrow-1.3.0 async-lru-2.0.4 babel-2.14.0 beautifulsoup4-4.12.2 bleach-6.1.0 cffi-1.16.0 comm-0.2.0 defusedxml-0.7.1 fqdn-1.5.1 ipywidgets-8.1.1 isoduration-20.11.0 jinja2-3.1.2 json5-0.9.14 jsonpointer-2.4 jupyter-1.0.0 jupyter-console-6.6.3 jupyter-events-0.9.0 jupyter-lsp-2.2.1 jupyter-server-2.12.1 jupyter-server-terminals-0.5.0 jupyterlab-4.0.9 jupyterlab-pygments-0.3.0 jupyterlab-server-2.25.2 jupyterlab-widgets-3.0.9 mistune-3.0.2 nbclient-0.9.0 nbconvert-7.12.0 notebook-7.0.6 notebook-shim-0.2.3 overrides-7.4.0 pandocfilters-1.5.0 prometheus-client-0.19.0 pycparser-2.21 python-json-logger-2.0.7 pyyaml-6.0.1 qtconsole-5.5.1 qtpy-2.4.1 rfc3339-validator-0.1.4 rfc3986-validator-0.1.1 send2trash-1.8.2 sniffio-1.3.0 soupsieve-2.5 terminado-0.18.0 tinycss2-1.2.1 tomli-2.0.1 types-python-dateutil-2.8.19.14 uri-template-1.3.0 webcolors-1.13 webencodings-0.5.1 websocket-client-1.7.0 widgetsnbextension-4.0.9\n"
     ]
    }
   ],
   "source": [
    "# !pip install tensorflow\n",
    "# !pip install jupyter"
   ]
  },
  {
   "cell_type": "markdown",
   "metadata": {},
   "source": [
    "https://becominghuman.ai/step-by-step-neural-network-tutorial-for-beginner-cc71a04eedeb"
   ]
  },
  {
   "cell_type": "code",
   "execution_count": 1,
   "metadata": {},
   "outputs": [
    {
     "name": "stderr",
     "output_type": "stream",
     "text": [
      "2023-12-18 14:03:12.008164: E external/local_xla/xla/stream_executor/cuda/cuda_dnn.cc:9261] Unable to register cuDNN factory: Attempting to register factory for plugin cuDNN when one has already been registered\n",
      "2023-12-18 14:03:12.008302: E external/local_xla/xla/stream_executor/cuda/cuda_fft.cc:607] Unable to register cuFFT factory: Attempting to register factory for plugin cuFFT when one has already been registered\n",
      "2023-12-18 14:03:12.182930: E external/local_xla/xla/stream_executor/cuda/cuda_blas.cc:1515] Unable to register cuBLAS factory: Attempting to register factory for plugin cuBLAS when one has already been registered\n",
      "2023-12-18 14:03:12.716395: I tensorflow/core/platform/cpu_feature_guard.cc:182] This TensorFlow binary is optimized to use available CPU instructions in performance-critical operations.\n",
      "To enable the following instructions: AVX2 AVX512F FMA, in other operations, rebuild TensorFlow with the appropriate compiler flags.\n",
      "2023-12-18 14:03:16.365198: W tensorflow/compiler/tf2tensorrt/utils/py_utils.cc:38] TF-TRT Warning: Could not find TensorRT\n"
     ]
    }
   ],
   "source": [
    "from tensorflow.keras.datasets import mnist\n",
    "from tensorflow.keras.models import Sequential\n",
    "from tensorflow.keras.layers import Dense\n",
    "from tensorflow.keras.utils import to_categorical"
   ]
  },
  {
   "cell_type": "code",
   "execution_count": 24,
   "metadata": {},
   "outputs": [
    {
     "data": {
      "text/plain": [
       "((60000, 28, 28), (60000,))"
      ]
     },
     "execution_count": 24,
     "metadata": {},
     "output_type": "execute_result"
    }
   ],
   "source": [
    "(x_train, y_train), (x_test, y_test) = mnist.load_data()\n",
    "x_train.shape, y_train.shape"
   ]
  },
  {
   "cell_type": "code",
   "execution_count": 30,
   "metadata": {},
   "outputs": [
    {
     "data": {
      "text/plain": [
       "<matplotlib.image.AxesImage at 0x7fe22f529760>"
      ]
     },
     "execution_count": 30,
     "metadata": {},
     "output_type": "execute_result"
    },
    {
     "data": {
      "image/png": "[encoded data removed]",
      "text/plain": [
       "<Figure size 640x480 with 1 Axes>"
      ]
     },
     "metadata": {},
     "output_type": "display_data"
    }
   ],
   "source": [
    "import matplotlib.pyplot as plt\n",
    "\n",
    "plt.imshow(x_train[0]) # to see a sample of X_train"
   ]
  },
  {
   "cell_type": "code",
   "execution_count": 25,
   "metadata": {},
   "outputs": [
    {
     "data": {
      "text/plain": [
       "array([5, 0, 4, ..., 5, 6, 8], dtype=uint8)"
      ]
     },
     "execution_count": 25,
     "metadata": {},
     "output_type": "execute_result"
    }
   ],
   "source": [
    "y_train"
   ]
  },
  {
   "cell_type": "markdown",
   "metadata": {},
   "source": [
    "Our image is 28x28, and therefore is two-dimensional. Because of our perceptron only able to read one-dimensional data, let’s flatten them."
   ]
  },
  {
   "cell_type": "code",
   "execution_count": 3,
   "metadata": {},
   "outputs": [],
   "source": [
    "x_train = x_train.reshape(x_train.shape[0], -1) / 255.0 # 255 is the pixel values range. a pixel can have a value between 0 and 255\n",
    "x_test = x_test.reshape(x_test.shape[0], -1) / 255.0\n",
    "y_train = to_categorical(y_train)\n",
    "y_test = to_categorical(y_test)"
   ]
  },
  {
   "cell_type": "markdown",
   "metadata": {},
   "source": [
    "You will see that the size changed into 784 because of the flatten"
   ]
  },
  {
   "cell_type": "code",
   "execution_count": 6,
   "metadata": {},
   "outputs": [
    {
     "data": {
      "text/plain": [
       "((60000, 10), (60000, 784))"
      ]
     },
     "execution_count": 6,
     "metadata": {},
     "output_type": "execute_result"
    }
   ],
   "source": [
    "y_train.shape, x_train.shape"
   ]
  },
  {
   "cell_type": "code",
   "execution_count": 5,
   "metadata": {},
   "outputs": [
    {
     "data": {
      "text/plain": [
       "(10000, 10)"
      ]
     },
     "execution_count": 5,
     "metadata": {},
     "output_type": "execute_result"
    }
   ],
   "source": [
    "y_test.shape "
   ]
  },
  {
   "cell_type": "markdown",
   "metadata": {},
   "source": [
    "The Sequential model is the easiest model Keras has. \n",
    "The first line of model.add method is adding your hidden layer with 10 cells, coming from 784 input cells.\n",
    "\n",
    "The second add method is adding your output layer to the network.\n",
    "The Relu and Softmax activation options are non-linear. \n",
    "Being able to use non-linear data makes Neural Network particularly useful. \n",
    "Generally, neural networks can map any data distribution at any level of complexity.\n",
    "You don’t have to know what Relu and Softmax are. These are too complex for a beginner. You just need to follow these tips:\n",
    "\n",
    "    Use Relu whenever possible, on every hidden layer.\n",
    "    Use Softmax on output layers with more than two categories to be predicted.\n",
    "    Use Sigmoid on an output layer with two categories."
   ]
  },
  {
   "cell_type": "code",
   "execution_count": 7,
   "metadata": {},
   "outputs": [
    {
     "name": "stderr",
     "output_type": "stream",
     "text": [
      "2023-12-18 14:04:16.596486: I tensorflow/core/common_runtime/gpu/gpu_device.cc:1929] Created device /job:localhost/replica:0/task:0/device:GPU:0 with 4247 MB memory:  -> device: 0, name: NVIDIA GeForce GTX 1660, pci bus id: 0000:61:00.0, compute capability: 7.5\n"
     ]
    }
   ],
   "source": [
    "# Create a Sequential model\n",
    "model = Sequential()\n",
    "# Add a Dense layer with 10 units, input dimension 784, and ReLU activation\n",
    "model.add(Dense(10, input_dim=784, activation='relu'))\n",
    "# Add another Dense layer with 10 units and softmax activation\n",
    "model.add(Dense(10, activation='softmax'))\n",
    "# Compile the model\n",
    "model.compile(loss='categorical_crossentropy', optimizer='adam', metrics=['accuracy'])"
   ]
  },
  {
   "cell_type": "markdown",
   "metadata": {},
   "source": [
    "After creating your model, call compile method to finish your model. It usually takes three parameters. Always use categorical_crossentropy for multi-categories, and binary_crossentropy for two categories. Use adam or rmsprop as the optimizer since both of them are pretty good. And you need accuracy as the metric to check your network performance."
   ]
  },
  {
   "cell_type": "markdown",
   "metadata": {},
   "source": [
    "we will use 10% of the training data as the validation data, hence validation_split was set to 0.1.\n",
    "\n",
    "epochs is the number of training loops we will do. One epoch will expose all of our training data once to the network. More epochs means the network will know better about our data."
   ]
  },
  {
   "cell_type": "code",
   "execution_count": 8,
   "metadata": {},
   "outputs": [
    {
     "name": "stdout",
     "output_type": "stream",
     "text": [
      "Epoch 1/10\n"
     ]
    },
    {
     "name": "stderr",
     "output_type": "stream",
     "text": [
      "2023-12-18 14:04:30.928424: I external/local_tsl/tsl/platform/default/subprocess.cc:304] Start cannot spawn child process: No such file or directory\n",
      "2023-12-18 14:04:31.378080: I external/local_xla/xla/service/service.cc:168] XLA service 0x7fe13c0310b0 initialized for platform CUDA (this does not guarantee that XLA will be used). Devices:\n",
      "2023-12-18 14:04:31.378148: I external/local_xla/xla/service/service.cc:176]   StreamExecutor device (0): NVIDIA GeForce GTX 1660, Compute Capability 7.5\n",
      "2023-12-18 14:04:31.496778: I tensorflow/compiler/mlir/tensorflow/utils/dump_mlir_util.cc:269] disabling MLIR crash reproducer, set env var `MLIR_CRASH_REPRODUCER_DIRECTORY` to enable.\n",
      "2023-12-18 14:04:33.079074: I external/local_xla/xla/stream_executor/cuda/cuda_dnn.cc:454] Loaded cuDNN version 8904\n",
      "WARNING: All log messages before absl::InitializeLog() is called are written to STDERR\n",
      "I0000 00:00:1702904673.432909    3382 device_compiler.h:186] Compiled cluster using XLA!  This line is logged at most once for the lifetime of the process.\n"
     ]
    },
    {
     "name": "stdout",
     "output_type": "stream",
     "text": [
      "1688/1688 [==============================] - 18s 4ms/step - loss: 0.5364 - accuracy: 0.8437 - val_loss: 0.2573 - val_accuracy: 0.9300\n",
      "Epoch 2/10\n",
      "1688/1688 [==============================] - 7s 4ms/step - loss: 0.2925 - accuracy: 0.9170 - val_loss: 0.2302 - val_accuracy: 0.9350\n",
      "Epoch 3/10\n",
      "1688/1688 [==============================] - 7s 4ms/step - loss: 0.2646 - accuracy: 0.9261 - val_loss: 0.2101 - val_accuracy: 0.9408\n",
      "Epoch 4/10\n",
      "1688/1688 [==============================] - 7s 4ms/step - loss: 0.2481 - accuracy: 0.9301 - val_loss: 0.2001 - val_accuracy: 0.9450\n",
      "Epoch 5/10\n",
      "1688/1688 [==============================] - 7s 4ms/step - loss: 0.2353 - accuracy: 0.9331 - val_loss: 0.1972 - val_accuracy: 0.9475\n",
      "Epoch 6/10\n",
      "1688/1688 [==============================] - 7s 4ms/step - loss: 0.2269 - accuracy: 0.9356 - val_loss: 0.1884 - val_accuracy: 0.9483\n",
      "Epoch 7/10\n",
      "1688/1688 [==============================] - 7s 4ms/step - loss: 0.2194 - accuracy: 0.9365 - val_loss: 0.1847 - val_accuracy: 0.9500\n",
      "Epoch 8/10\n",
      "1688/1688 [==============================] - 7s 4ms/step - loss: 0.2136 - accuracy: 0.9387 - val_loss: 0.1801 - val_accuracy: 0.9490\n",
      "Epoch 9/10\n",
      "1688/1688 [==============================] - 7s 4ms/step - loss: 0.2078 - accuracy: 0.9400 - val_loss: 0.1799 - val_accuracy: 0.9518\n",
      "Epoch 10/10\n",
      "1688/1688 [==============================] - 6s 4ms/step - loss: 0.2034 - accuracy: 0.9412 - val_loss: 0.1792 - val_accuracy: 0.9527\n"
     ]
    },
    {
     "data": {
      "text/plain": [
       "<keras.src.callbacks.History at 0x7fe2326c1c70>"
      ]
     },
     "execution_count": 8,
     "metadata": {},
     "output_type": "execute_result"
    }
   ],
   "source": [
    "model.fit(x_train, y_train, epochs=10, validation_split=0.1)"
   ]
  },
  {
   "cell_type": "code",
   "execution_count": 9,
   "metadata": {},
   "outputs": [
    {
     "name": "stdout",
     "output_type": "stream",
     "text": [
      "313/313 [==============================] - 1s 3ms/step - loss: 0.2121 - accuracy: 0.9386\n",
      "0.9386000037193298\n"
     ]
    }
   ],
   "source": [
    "_, test_acc = model.evaluate(x_test, y_test)\n",
    "print(test_acc)"
   ]
  },
  {
   "cell_type": "code",
   "execution_count": 10,
   "metadata": {},
   "outputs": [
    {
     "name": "stdout",
     "output_type": "stream",
     "text": [
      "Epoch 1/10\n",
      "1688/1688 [==============================] - 8s 4ms/step - loss: 0.3590 - accuracy: 0.8987 - val_loss: 0.1833 - val_accuracy: 0.9512\n",
      "Epoch 2/10\n",
      "1688/1688 [==============================] - 7s 4ms/step - loss: 0.1819 - accuracy: 0.9472 - val_loss: 0.1295 - val_accuracy: 0.9655\n",
      "Epoch 3/10\n",
      "1688/1688 [==============================] - 7s 4ms/step - loss: 0.1349 - accuracy: 0.9604 - val_loss: 0.1083 - val_accuracy: 0.9703\n",
      "Epoch 4/10\n",
      "1688/1688 [==============================] - 7s 4ms/step - loss: 0.1077 - accuracy: 0.9676 - val_loss: 0.0997 - val_accuracy: 0.9705\n",
      "Epoch 5/10\n",
      "1688/1688 [==============================] - 7s 4ms/step - loss: 0.0897 - accuracy: 0.9732 - val_loss: 0.0992 - val_accuracy: 0.9705\n",
      "Epoch 6/10\n",
      "1688/1688 [==============================] - 7s 4ms/step - loss: 0.0766 - accuracy: 0.9771 - val_loss: 0.0933 - val_accuracy: 0.9730\n",
      "Epoch 7/10\n",
      "1688/1688 [==============================] - 7s 4ms/step - loss: 0.0662 - accuracy: 0.9799 - val_loss: 0.0915 - val_accuracy: 0.9728\n",
      "Epoch 8/10\n",
      "1688/1688 [==============================] - 7s 4ms/step - loss: 0.0561 - accuracy: 0.9827 - val_loss: 0.0940 - val_accuracy: 0.9720\n",
      "Epoch 9/10\n",
      "1688/1688 [==============================] - 7s 4ms/step - loss: 0.0504 - accuracy: 0.9847 - val_loss: 0.0923 - val_accuracy: 0.9718\n",
      "Epoch 10/10\n",
      "1688/1688 [==============================] - 7s 4ms/step - loss: 0.0455 - accuracy: 0.9861 - val_loss: 0.0901 - val_accuracy: 0.9735\n"
     ]
    },
    {
     "data": {
      "text/plain": [
       "<keras.src.callbacks.History at 0x7fe235aa8df0>"
      ]
     },
     "execution_count": 10,
     "metadata": {},
     "output_type": "execute_result"
    }
   ],
   "source": [
    "model2 = Sequential()\n",
    "# Add a Dense layer with 50 units, input dimension 784, and ReLU activation\n",
    "model2.add(Dense(50, input_dim=784, activation='relu'))\n",
    "model2.add(Dense(10, activation='softmax'))\n",
    "model2.compile(loss='categorical_crossentropy', optimizer='adam', metrics=['accuracy'])\n",
    "model2.fit(x_train, y_train, epochs=10, validation_split=0.1)"
   ]
  },
  {
   "cell_type": "markdown",
   "metadata": {},
   "source": [
    "This changes the number of the hidden layer cells. We’ve increased these from 10 to 50."
   ]
  },
  {
   "cell_type": "code",
   "execution_count": 11,
   "metadata": {},
   "outputs": [
    {
     "name": "stdout",
     "output_type": "stream",
     "text": [
      "313/313 [==============================] - 1s 2ms/step - loss: 0.0900 - accuracy: 0.9720\n",
      "0.972000002861023\n"
     ]
    }
   ],
   "source": [
    "_, test_acc = model2.evaluate(x_test, y_test)\n",
    "print(test_acc)"
   ]
  },
  {
   "cell_type": "code",
   "execution_count": 12,
   "metadata": {},
   "outputs": [
    {
     "name": "stdout",
     "output_type": "stream",
     "text": [
      "Epoch 1/10\n",
      "1688/1688 [==============================] - 10s 5ms/step - loss: 0.3041 - accuracy: 0.9105 - val_loss: 0.1311 - val_accuracy: 0.9613\n",
      "Epoch 2/10\n",
      "1688/1688 [==============================] - 8s 5ms/step - loss: 0.1389 - accuracy: 0.9582 - val_loss: 0.1079 - val_accuracy: 0.9688\n",
      "Epoch 3/10\n",
      "1688/1688 [==============================] - 7s 4ms/step - loss: 0.1033 - accuracy: 0.9681 - val_loss: 0.0958 - val_accuracy: 0.9722\n",
      "Epoch 4/10\n",
      "1688/1688 [==============================] - 7s 4ms/step - loss: 0.0825 - accuracy: 0.9748 - val_loss: 0.1040 - val_accuracy: 0.9715\n",
      "Epoch 5/10\n",
      "1688/1688 [==============================] - 7s 4ms/step - loss: 0.0695 - accuracy: 0.9784 - val_loss: 0.0938 - val_accuracy: 0.9735\n",
      "Epoch 6/10\n",
      "1688/1688 [==============================] - 7s 4ms/step - loss: 0.0576 - accuracy: 0.9816 - val_loss: 0.0999 - val_accuracy: 0.9730\n",
      "Epoch 7/10\n",
      "1688/1688 [==============================] - 7s 4ms/step - loss: 0.0520 - accuracy: 0.9834 - val_loss: 0.0954 - val_accuracy: 0.9755\n",
      "Epoch 8/10\n",
      "1688/1688 [==============================] - 7s 4ms/step - loss: 0.0453 - accuracy: 0.9853 - val_loss: 0.0931 - val_accuracy: 0.9762\n",
      "Epoch 9/10\n",
      "1688/1688 [==============================] - 7s 4ms/step - loss: 0.0397 - accuracy: 0.9873 - val_loss: 0.1081 - val_accuracy: 0.9708\n",
      "Epoch 10/10\n",
      "1688/1688 [==============================] - 7s 4ms/step - loss: 0.0349 - accuracy: 0.9881 - val_loss: 0.1060 - val_accuracy: 0.9752\n"
     ]
    },
    {
     "data": {
      "text/plain": [
       "<keras.src.callbacks.History at 0x7fe20c358970>"
      ]
     },
     "execution_count": 12,
     "metadata": {},
     "output_type": "execute_result"
    }
   ],
   "source": [
    "model3 = Sequential()\n",
    "# Add a Dense layer with 50 units, input dimension 784, and ReLU activation\n",
    "model3.add(Dense(50,input_dim=784, activation='relu'))\n",
    "# Add another Dense layer with 50 units and ReLU activation\n",
    "model3.add(Dense(50, activation='relu'))\n",
    "# Add a Dense layer with 10 units and softmax activation\n",
    "model3.add(Dense(10, activation='softmax'))\n",
    "# Compile the model\n",
    "model3.compile(loss='categorical_crossentropy', optimizer='adam', metrics=['accuracy'])\n",
    "# Train the model\n",
    "model3.fit(x_train, y_train, epochs=10, validation_split=0.1)"
   ]
  },
  {
   "cell_type": "code",
   "execution_count": 13,
   "metadata": {},
   "outputs": [
    {
     "name": "stdout",
     "output_type": "stream",
     "text": [
      "313/313 [==============================] - 1s 3ms/step - loss: 0.0953 - accuracy: 0.9745\n",
      "0.9745000004768372\n"
     ]
    }
   ],
   "source": [
    "_, test_acc = model3.evaluate(x_test, y_test)\n",
    "print(test_acc)"
   ]
  },
  {
   "cell_type": "markdown",
   "metadata": {},
   "source": [
    "Let’s just apply the CNN to our network:"
   ]
  },
  {
   "cell_type": "code",
   "execution_count": 16,
   "metadata": {},
   "outputs": [],
   "source": [
    "from tensorflow.keras.layers import Conv2D, MaxPooling2D, Flatten\n",
    "import numpy as np\n",
    "\n",
    "# Load MNIST dataset\n",
    "(x_train, y_train), (x_test, y_test) = mnist.load_data()\n",
    "# Add a channel dimension and normalize pixel values\n",
    "x_train = x_train[:,:,:,np.newaxis] / 255.0\n",
    "x_test = x_test[:,:,:,np.newaxis] / 255.0\n",
    "# One-hot encode the labels\n",
    "y_train = to_categorical(y_train)\n",
    "y_test = to_categorical(y_test)"
   ]
  },
  {
   "cell_type": "markdown",
   "metadata": {},
   "source": [
    "If you check your x_train, you will have 60,000 x 28 x 28 x 1 data.\n",
    "\n",
    "Why x 1?\n",
    "\n",
    "The data CNN needs to read must be like this: total_data x width x height x channels.\n",
    "Add a new axis to represent the channel dimension:\n",
    "\n",
    "    x_train[:, :, :, np.newaxis]: This indexing operation adds a new axis to the x_train array at the end. The np.newaxis is used to add a new dimension of size 1. In the context of image data, this new dimension represents the channel. Grayscale images typically have one channel, and color images have three channels (Red, Green, Blue). By adding this new axis, you are explicitly specifying that each image in the training set has one channel.\n",
    "    For example, if x_train initially had shape (60000, 28, 28), after this operation, it will have shape (60000, 28, 28, 1)."
   ]
  },
  {
   "cell_type": "markdown",
   "metadata": {},
   "source": [
    "Normalize pixel values:\n",
    "\n",
    "    / 255.0: After adding the channel dimension, the pixel values in the images are normalized by dividing each pixel value by 255.0. This operation scales the pixel values to be in the range [0, 1]. Normalization is a common preprocessing step in machine learning, especially for neural networks, to ensure that the input features are on a similar scale, which can help with the convergence of the training process."
   ]
  },
  {
   "cell_type": "code",
   "execution_count": 17,
   "metadata": {},
   "outputs": [
    {
     "data": {
      "text/plain": [
       "((60000, 10), (60000, 28, 28, 1))"
      ]
     },
     "execution_count": 17,
     "metadata": {},
     "output_type": "execute_result"
    }
   ],
   "source": [
    "y_train.shape, x_train.shape"
   ]
  },
  {
   "cell_type": "markdown",
   "metadata": {},
   "source": [
    "    Convolutional Layer:\n",
    "        model4.add(Conv2D(filters=64, kernel_size=2, padding='same', activation='relu', input_shape=(28,28, 1))): Adds a convolutional layer to the model. This layer has 64 filters, each with a kernel size of 2x2. The 'same' padding ensures that the spatial dimensions of the output are the same as the input. The ReLU activation function introduces non-linearity to the model. The input_shape parameter is set to (28, 28, 1), indicating that the input images are 28x28 pixels with one channel.\n",
    "\n",
    "    Max Pooling Layer:\n",
    "        model4.add(MaxPooling2D(pool_size=2)): Adds a max pooling layer with a pool size of 2x2. Max pooling reduces the spatial dimensions of the input, helping to decrease computation and make the network more robust to variations in input.\n",
    "\n",
    "    Flatten Layer:\n",
    "        model4.add(Flatten()): Flattens the output of the previous layer into a one-dimensional vector. This is necessary when transitioning from convolutional layers to fully connected layers.\n",
    "\n",
    "    Fully Connected (Dense) Layer:\n",
    "        model4.add(Dense(10, activation='softmax')): Adds a fully connected (dense) layer with 10 units (assuming you have 10 classes in your classification task). The softmax activation function is used in the output layer for multi-class classification. It converts the raw output scores into probabilities.\n",
    "\n",
    "    Compilation:\n",
    "        model4.compile(loss='categorical_crossentropy', optimizer='adam', metrics=['accuracy']): Compiles the model. It uses categorical crossentropy as the loss function, the Adam optimizer, and accuracy as the metric to monitor during training.\n",
    "\n",
    "This CNN architecture is suitable for image classification tasks, especially on datasets like MNIST where the goal is to classify handwritten digits. The convolutional layers learn hierarchical features from the images, and the fully connected layer produces class probabilities. The model is trained using the specified loss function, optimizer, and metrics."
   ]
  },
  {
   "cell_type": "code",
   "execution_count": 19,
   "metadata": {},
   "outputs": [],
   "source": [
    "# Create a Sequential model\n",
    "model4 = Sequential()\n",
    "# Add a convolutional layer with 64 filters, kernel size 2, 'same' padding, ReLU activation, and input shape (28, 28, 1)\n",
    "model4.add(Conv2D(filters=64, kernel_size=2, padding='same', activation='relu', input_shape=(28,28, 1))) \n",
    "# Add a max pooling layer with pool size 2\n",
    "model4.add(MaxPooling2D(pool_size=2))\n",
    "# Flatten the output of the previous layer\n",
    "model4.add(Flatten())\n",
    "# Add a fully connected (dense) layer with 10 units and softmax activation\n",
    "model4.add(Dense(10, activation='softmax'))\n",
    "# Compile the model\n",
    "model4.compile(loss='categorical_crossentropy', optimizer='adam', metrics=['accuracy'])"
   ]
  },
  {
   "cell_type": "code",
   "execution_count": 20,
   "metadata": {},
   "outputs": [
    {
     "name": "stdout",
     "output_type": "stream",
     "text": [
      "Model: \"sequential_3\"\n",
      "_________________________________________________________________\n",
      " Layer (type)                Output Shape              Param #   \n",
      "=================================================================\n",
      " conv2d (Conv2D)             (None, 28, 28, 64)        320       \n",
      "                                                                 \n",
      " max_pooling2d (MaxPooling2  (None, 14, 14, 64)        0         \n",
      " D)                                                              \n",
      "                                                                 \n",
      " flatten (Flatten)           (None, 12544)             0         \n",
      "                                                                 \n",
      " dense_7 (Dense)             (None, 10)                125450    \n",
      "                                                                 \n",
      "=================================================================\n",
      "Total params: 125770 (491.29 KB)\n",
      "Trainable params: 125770 (491.29 KB)\n",
      "Non-trainable params: 0 (0.00 Byte)\n",
      "_________________________________________________________________\n"
     ]
    }
   ],
   "source": [
    "model4.summary()"
   ]
  },
  {
   "cell_type": "markdown",
   "metadata": {},
   "source": [
    "conv2d changes your 28x28x1 image to 28x28x64. Just imagine this as 64 hidden layer cells.\n",
    "\n",
    "MaxPooling2D reduces the width and height so that you will not need to compute all the cells. It reduces the size to 14x14x64.\n",
    "\n",
    "Finally, flatten just flattens out the output of MaxPooling into a hidden layer of 12544 cells."
   ]
  },
  {
   "cell_type": "code",
   "execution_count": 21,
   "metadata": {},
   "outputs": [
    {
     "name": "stdout",
     "output_type": "stream",
     "text": [
      "Epoch 1/10\n"
     ]
    },
    {
     "name": "stderr",
     "output_type": "stream",
     "text": [
      "2023-12-18 14:43:09.814258: I external/local_tsl/tsl/platform/default/subprocess.cc:304] Start cannot spawn child process: No such file or directory\n"
     ]
    },
    {
     "name": "stdout",
     "output_type": "stream",
     "text": [
      "1688/1688 [==============================] - 20s 5ms/step - loss: 0.2433 - accuracy: 0.9321 - val_loss: 0.0936 - val_accuracy: 0.9735\n",
      "Epoch 2/10\n",
      "1688/1688 [==============================] - 8s 4ms/step - loss: 0.0937 - accuracy: 0.9721 - val_loss: 0.0795 - val_accuracy: 0.9790\n",
      "Epoch 3/10\n",
      "1688/1688 [==============================] - 8s 4ms/step - loss: 0.0698 - accuracy: 0.9799 - val_loss: 0.0661 - val_accuracy: 0.9822\n",
      "Epoch 4/10\n",
      "1688/1688 [==============================] - 8s 4ms/step - loss: 0.0584 - accuracy: 0.9824 - val_loss: 0.0733 - val_accuracy: 0.9788\n",
      "Epoch 5/10\n",
      "1688/1688 [==============================] - 7s 4ms/step - loss: 0.0500 - accuracy: 0.9845 - val_loss: 0.0630 - val_accuracy: 0.9837\n",
      "Epoch 6/10\n",
      "1688/1688 [==============================] - 7s 4ms/step - loss: 0.0436 - accuracy: 0.9866 - val_loss: 0.0592 - val_accuracy: 0.9843\n",
      "Epoch 7/10\n",
      "1688/1688 [==============================] - 7s 4ms/step - loss: 0.0384 - accuracy: 0.9884 - val_loss: 0.0664 - val_accuracy: 0.9837\n",
      "Epoch 8/10\n",
      "1688/1688 [==============================] - 7s 4ms/step - loss: 0.0340 - accuracy: 0.9900 - val_loss: 0.0696 - val_accuracy: 0.9817\n",
      "Epoch 9/10\n",
      "1688/1688 [==============================] - 7s 4ms/step - loss: 0.0287 - accuracy: 0.9912 - val_loss: 0.0693 - val_accuracy: 0.9822\n",
      "Epoch 10/10\n",
      "1688/1688 [==============================] - 7s 4ms/step - loss: 0.0254 - accuracy: 0.9923 - val_loss: 0.0624 - val_accuracy: 0.9845\n"
     ]
    },
    {
     "data": {
      "text/plain": [
       "<keras.src.callbacks.History at 0x7fe20df41af0>"
      ]
     },
     "execution_count": 21,
     "metadata": {},
     "output_type": "execute_result"
    }
   ],
   "source": [
    "model4.fit(x_train, y_train, epochs=10, validation_split=0.1)"
   ]
  },
  {
   "cell_type": "code",
   "execution_count": 22,
   "metadata": {},
   "outputs": [
    {
     "name": "stdout",
     "output_type": "stream",
     "text": [
      "313/313 [==============================] - 1s 3ms/step - loss: 0.0692 - accuracy: 0.9796\n",
      "0.9796000123023987\n"
     ]
    }
   ],
   "source": [
    "_, test_acc = model4.evaluate(x_test, y_test)\n",
    "print(test_acc)"
   ]
  },
  {
   "cell_type": "code",
   "execution_count": null,
   "metadata": {},
   "outputs": [],
   "source": []
  }
 ],
 "metadata": {
  "kernelspec": {
   "display_name": "keras_gpu",
   "language": "python",
   "name": "python3"
  },
  "language_info": {
   "codemirror_mode": {
    "name": "ipython",
    "version": 3
   },
   "file_extension": ".py",
   "mimetype": "text/x-python",
   "name": "python",
   "nbconvert_exporter": "python",
   "pygments_lexer": "ipython3",
   "version": "3.9.18"
  }
 },
 "nbformat": 4,
 "nbformat_minor": 2
}
