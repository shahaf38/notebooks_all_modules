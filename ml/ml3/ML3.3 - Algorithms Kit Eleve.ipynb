{
 "cells": [
  {
   "attachments": {},
   "cell_type": "markdown",
   "metadata": {},
   "source": [
    "# Dataset "
   ]
  },
  {
   "attachments": {},
   "cell_type": "markdown",
   "metadata": {},
   "source": [
    "https://www.kaggle.com/mariaren/covid19-healthy-diet-dataset"
   ]
  },
  {
   "attachments": {},
   "cell_type": "markdown",
   "metadata": {},
   "source": [
    "# Problem definition "
   ]
  },
  {
   "attachments": {},
   "cell_type": "markdown",
   "metadata": {},
   "source": [
    "We chose a dataset combining different types of food, world population obesity and undernourished rate, and global covid cases count from around the world.\n",
    "\n",
    "The idea is to understand how a healthy eating style could help combat the coronavirus, distinguishing the diet patterns from countries with lower COVID infection rate.\n",
    "\n",
    "Our goal here is to provide diet recommendations based on our findings.\n",
    "\n",
    "Each dataset provides different diet measure different categories of food, depending on what we want to focus on, so we have\n",
    "\n",
    "- fat quantity,\n",
    "- energy intake (kcal),\n",
    "- food supply quantity (kg),\n",
    "- protein for different categories of food\n",
    "\n",
    "To which have been added:\n",
    "\n",
    "- obesity rate\n",
    "- undernourished rate\n",
    "- the most up to date confirmed/deaths/recovered/active cases.\n",
    "\n",
    "We are going to focus on the fat quantity dataset."
   ]
  },
  {
   "cell_type": "code",
   "execution_count": 21,
   "metadata": {},
   "outputs": [],
   "source": [
    "import numpy as np\n",
    "import pandas as pd\n",
    "\n",
    "from sklearn.datasets import load_iris\n",
    "import matplotlib.pyplot as plt\n",
    "\n",
    "from sklearn import tree\n",
    "from sklearn.tree import DecisionTreeClassifier\n",
    "from sklearn.ensemble import RandomForestClassifier\n",
    "from sklearn.linear_model import LinearRegression\n",
    "from sklearn.model_selection import learning_curve\n",
    "from sklearn.tree import export_graphviz, plot_tree\n",
    "from sklearn import metrics\n",
    "from sklearn.preprocessing import StandardScaler\n",
    "from sklearn.model_selection import train_test_split\n",
    "from sklearn.model_selection import KFold\n",
    "from sklearn.metrics import mean_squared_error\n",
    "from sklearn.svm import LinearSVC, SVC, SVR\n",
    "from matplotlib import rcParams\n",
    "import plotly.express as px\n"
   ]
  },
  {
   "cell_type": "code",
   "execution_count": 20,
   "metadata": {},
   "outputs": [
    {
     "name": "stdout",
     "output_type": "stream",
     "text": [
      "Defaulting to user installation because normal site-packages is not writeable\n",
      "Collecting plotly\n",
      "  Downloading plotly-5.18.0-py3-none-any.whl (15.6 MB)\n",
      "\u001b[2K     \u001b[90m━━━━━━━━━━━━━━━━━━━━━━━━━━━━━━━━━━━━━━━━\u001b[0m \u001b[32m15.6/15.6 MB\u001b[0m \u001b[31m35.8 MB/s\u001b[0m eta \u001b[36m0:00:00\u001b[0m00:01\u001b[0m00:01\u001b[0m\n",
      "\u001b[?25hRequirement already satisfied: packaging in /usr/lib/python3/dist-packages (from plotly) (21.3)\n",
      "Collecting tenacity>=6.2.0\n",
      "  Downloading tenacity-8.2.3-py3-none-any.whl (24 kB)\n",
      "Installing collected packages: tenacity, plotly\n",
      "Successfully installed plotly-5.18.0 tenacity-8.2.3\n"
     ]
    }
   ],
   "source": [
    "#!pip install plotly\n"
   ]
  },
  {
   "attachments": {},
   "cell_type": "markdown",
   "metadata": {},
   "source": [
    "Let's start by loading the data"
   ]
  },
  {
   "cell_type": "code",
   "execution_count": 4,
   "metadata": {},
   "outputs": [],
   "source": [
    "fat_quantity = pd.read_csv(\"./Fat_Supply_Quantity_Data.csv\")"
   ]
  },
  {
   "attachments": {},
   "cell_type": "markdown",
   "metadata": {},
   "source": [
    " ## Data Exploration and Processing"
   ]
  },
  {
   "attachments": {},
   "cell_type": "markdown",
   "metadata": {},
   "source": [
    "Now let's explore the dataset:\n",
    "- check the head\n",
    "- the columns\n",
    "- the variable types"
   ]
  },
  {
   "cell_type": "code",
   "execution_count": 5,
   "metadata": {},
   "outputs": [
    {
     "name": "stdout",
     "output_type": "stream",
     "text": [
      "               Country  Alcoholic Beverages  Animal Products  Animal fats  \\\n",
      "0          Afghanistan                  0.0          21.6397       6.2224   \n",
      "1              Albania                  0.0          32.0002       3.4172   \n",
      "2              Algeria                  0.0          14.4175       0.8972   \n",
      "3               Angola                  0.0          15.3041       1.3130   \n",
      "4  Antigua and Barbuda                  0.0          27.7033       4.6686   \n",
      "\n",
      "   Aquatic Products, Other  Cereals - Excluding Beer    Eggs  Fish, Seafood  \\\n",
      "0                      0.0                    8.0353  0.6859         0.0327   \n",
      "1                      0.0                    2.6734  1.6448         0.1445   \n",
      "2                      0.0                    4.2035  1.2171         0.2008   \n",
      "3                      0.0                    6.5545  0.1539         1.4155   \n",
      "4                      0.0                    3.2153  0.3872         1.5263   \n",
      "\n",
      "   Fruits - Excluding Wine     Meat  ...  Vegetable Oils  Vegetables  Obesity  \\\n",
      "0                   0.4246   6.1244  ...         17.0831      0.3593      4.5   \n",
      "1                   0.6418   8.7428  ...          9.2443      0.6503     22.3   \n",
      "2                   0.5772   3.8961  ...         27.3606      0.5145     26.6   \n",
      "3                   0.3488  11.0268  ...         22.4638      0.1231      6.8   \n",
      "4                   1.2177  14.3202  ...         14.4436      0.2469     19.1   \n",
      "\n",
      "   Undernourished  Confirmed    Deaths  Recovered    Active  Population  \\\n",
      "0            29.8   0.125149  0.005058   0.098263  0.021827  38928000.0   \n",
      "1             6.2   1.733298  0.035800   0.874560  0.822939   2838000.0   \n",
      "2             3.9   0.208754  0.005882   0.137268  0.065604  44357000.0   \n",
      "3              25   0.050049  0.001144   0.027440  0.021465  32522000.0   \n",
      "4             NaN   0.151020  0.005102   0.140816  0.005102     98000.0   \n",
      "\n",
      "   Unit (all except Population)  \n",
      "0                             %  \n",
      "1                             %  \n",
      "2                             %  \n",
      "3                             %  \n",
      "4                             %  \n",
      "\n",
      "[5 rows x 32 columns]\n",
      "Index(['Country', 'Alcoholic Beverages', 'Animal Products', 'Animal fats',\n",
      "       'Aquatic Products, Other', 'Cereals - Excluding Beer', 'Eggs',\n",
      "       'Fish, Seafood', 'Fruits - Excluding Wine', 'Meat', 'Miscellaneous',\n",
      "       'Milk - Excluding Butter', 'Offals', 'Oilcrops', 'Pulses', 'Spices',\n",
      "       'Starchy Roots', 'Stimulants', 'Sugar Crops', 'Sugar & Sweeteners',\n",
      "       'Treenuts', 'Vegetal Products', 'Vegetable Oils', 'Vegetables',\n",
      "       'Obesity', 'Undernourished', 'Confirmed', 'Deaths', 'Recovered',\n",
      "       'Active', 'Population', 'Unit (all except Population)'],\n",
      "      dtype='object')\n",
      "Country                          object\n",
      "Alcoholic Beverages             float64\n",
      "Animal Products                 float64\n",
      "Animal fats                     float64\n",
      "Aquatic Products, Other         float64\n",
      "Cereals - Excluding Beer        float64\n",
      "Eggs                            float64\n",
      "Fish, Seafood                   float64\n",
      "Fruits - Excluding Wine         float64\n",
      "Meat                            float64\n",
      "Miscellaneous                   float64\n",
      "Milk - Excluding Butter         float64\n",
      "Offals                          float64\n",
      "Oilcrops                        float64\n",
      "Pulses                          float64\n",
      "Spices                          float64\n",
      "Starchy Roots                   float64\n",
      "Stimulants                      float64\n",
      "Sugar Crops                     float64\n",
      "Sugar & Sweeteners              float64\n",
      "Treenuts                        float64\n",
      "Vegetal Products                float64\n",
      "Vegetable Oils                  float64\n",
      "Vegetables                      float64\n",
      "Obesity                         float64\n",
      "Undernourished                   object\n",
      "Confirmed                       float64\n",
      "Deaths                          float64\n",
      "Recovered                       float64\n",
      "Active                          float64\n",
      "Population                      float64\n",
      "Unit (all except Population)     object\n",
      "dtype: object\n"
     ]
    }
   ],
   "source": [
    "# Display the first few rows (head) of the DataFrame\n",
    "print(fat_quantity.head())\n",
    "\n",
    "# Display the columns of the DataFrame\n",
    "print(fat_quantity.columns)\n",
    "\n",
    "# Display the variable types of each column in the DataFrame\n",
    "print(fat_quantity.dtypes)\n"
   ]
  },
  {
   "cell_type": "code",
   "execution_count": null,
   "metadata": {},
   "outputs": [],
   "source": []
  },
  {
   "attachments": {},
   "cell_type": "markdown",
   "metadata": {},
   "source": [
    "Let's create a function to **check missing data** and unveil **the percentage of data missing** for each dataframe"
   ]
  },
  {
   "cell_type": "code",
   "execution_count": 6,
   "metadata": {},
   "outputs": [
    {
     "name": "stdout",
     "output_type": "stream",
     "text": [
      "                              Missing Count  Missing Percentage\n",
      "Active                                    8            4.705882\n",
      "Undernourished                            7            4.117647\n",
      "Recovered                                 6            3.529412\n",
      "Deaths                                    6            3.529412\n",
      "Confirmed                                 6            3.529412\n",
      "Obesity                                   3            1.764706\n",
      "Country                                   0            0.000000\n",
      "Alcoholic Beverages                       0            0.000000\n",
      "Population                                0            0.000000\n",
      "Vegetables                                0            0.000000\n",
      "Vegetable Oils                            0            0.000000\n",
      "Vegetal Products                          0            0.000000\n",
      "Treenuts                                  0            0.000000\n",
      "Sugar & Sweeteners                        0            0.000000\n",
      "Sugar Crops                               0            0.000000\n",
      "Stimulants                                0            0.000000\n",
      "Starchy Roots                             0            0.000000\n",
      "Spices                                    0            0.000000\n",
      "Pulses                                    0            0.000000\n",
      "Oilcrops                                  0            0.000000\n",
      "Offals                                    0            0.000000\n",
      "Milk - Excluding Butter                   0            0.000000\n",
      "Miscellaneous                             0            0.000000\n",
      "Meat                                      0            0.000000\n",
      "Fruits - Excluding Wine                   0            0.000000\n",
      "Fish, Seafood                             0            0.000000\n",
      "Eggs                                      0            0.000000\n",
      "Cereals - Excluding Beer                  0            0.000000\n",
      "Aquatic Products, Other                   0            0.000000\n",
      "Animal fats                               0            0.000000\n",
      "Animal Products                           0            0.000000\n",
      "Unit (all except Population)              0            0.000000\n"
     ]
    }
   ],
   "source": [
    "def check_missing_data(df):\n",
    "    \"\"\"\n",
    "    Check missing data in a DataFrame and calculate the percentage of missing values for each column.\n",
    "    \n",
    "    Parameters:\n",
    "    - df (pd.DataFrame): The input DataFrame.\n",
    "\n",
    "    Returns:\n",
    "    - missing_data (pd.DataFrame): A DataFrame containing the count and percentage of missing values for each column.\n",
    "    \"\"\"\n",
    "    # Count missing values for each column\n",
    "    missing_count = df.isnull().sum()\n",
    "\n",
    "    # Calculate percentage of missing values\n",
    "    missing_percentage = (missing_count / len(df)) * 100\n",
    "\n",
    "    # Create a DataFrame with missing data information\n",
    "    missing_data = pd.DataFrame({\n",
    "        'Missing Count': missing_count,\n",
    "        'Missing Percentage': missing_percentage\n",
    "    })\n",
    "\n",
    "    # Sort the DataFrame by the percentage of missing values in descending order\n",
    "    missing_data = missing_data.sort_values(by='Missing Percentage', ascending=False)\n",
    "\n",
    "    return missing_data\n",
    "\n",
    "# Use the function on your 'fat_quantity' DataFrame\n",
    "missing_data_fat_quantity = check_missing_data(fat_quantity)\n",
    "\n",
    "# Display the result\n",
    "print(missing_data_fat_quantity)\n",
    "\n"
   ]
  },
  {
   "attachments": {},
   "cell_type": "markdown",
   "metadata": {},
   "source": [
    "Delete the countries for which values are missing."
   ]
  },
  {
   "cell_type": "code",
   "execution_count": 7,
   "metadata": {},
   "outputs": [
    {
     "name": "stdout",
     "output_type": "stream",
     "text": [
      "       Country  Alcoholic Beverages  Animal Products  Animal fats  \\\n",
      "0  Afghanistan                  0.0          21.6397       6.2224   \n",
      "1      Albania                  0.0          32.0002       3.4172   \n",
      "2      Algeria                  0.0          14.4175       0.8972   \n",
      "3       Angola                  0.0          15.3041       1.3130   \n",
      "5    Argentina                  0.0          30.3572       3.3076   \n",
      "\n",
      "   Aquatic Products, Other  Cereals - Excluding Beer    Eggs  Fish, Seafood  \\\n",
      "0                      0.0                    8.0353  0.6859         0.0327   \n",
      "1                      0.0                    2.6734  1.6448         0.1445   \n",
      "2                      0.0                    4.2035  1.2171         0.2008   \n",
      "3                      0.0                    6.5545  0.1539         1.4155   \n",
      "5                      0.0                    1.3316  1.5706         0.1664   \n",
      "\n",
      "   Fruits - Excluding Wine     Meat  ...  Vegetable Oils  Vegetables  Obesity  \\\n",
      "0                   0.4246   6.1244  ...         17.0831      0.3593      4.5   \n",
      "1                   0.6418   8.7428  ...          9.2443      0.6503     22.3   \n",
      "2                   0.5772   3.8961  ...         27.3606      0.5145     26.6   \n",
      "3                   0.3488  11.0268  ...         22.4638      0.1231      6.8   \n",
      "5                   0.2091  19.2693  ...         17.3147      0.1878     28.5   \n",
      "\n",
      "   Undernourished  Confirmed    Deaths  Recovered    Active  Population  \\\n",
      "0            29.8   0.125149  0.005058   0.098263  0.021827  38928000.0   \n",
      "1             6.2   1.733298  0.035800   0.874560  0.822939   2838000.0   \n",
      "2             3.9   0.208754  0.005882   0.137268  0.065604  44357000.0   \n",
      "3              25   0.050049  0.001144   0.027440  0.021465  32522000.0   \n",
      "5             4.6   3.312740  0.090444   2.953302  0.268993  45377000.0   \n",
      "\n",
      "   Unit (all except Population)  \n",
      "0                             %  \n",
      "1                             %  \n",
      "2                             %  \n",
      "3                             %  \n",
      "5                             %  \n",
      "\n",
      "[5 rows x 32 columns]\n"
     ]
    }
   ],
   "source": [
    "# Drop rows with missing values and update the DataFrame in place\n",
    "fat_quantity = fat_quantity.dropna()\n",
    "\n",
    "# Display the first few rows of the updated DataFrame\n",
    "print(fat_quantity.head())\n"
   ]
  },
  {
   "attachments": {},
   "cell_type": "markdown",
   "metadata": {},
   "source": [
    "Look at the different data types for each variable."
   ]
  },
  {
   "cell_type": "code",
   "execution_count": 8,
   "metadata": {},
   "outputs": [
    {
     "name": "stdout",
     "output_type": "stream",
     "text": [
      "Country                          object\n",
      "Alcoholic Beverages             float64\n",
      "Animal Products                 float64\n",
      "Animal fats                     float64\n",
      "Aquatic Products, Other         float64\n",
      "Cereals - Excluding Beer        float64\n",
      "Eggs                            float64\n",
      "Fish, Seafood                   float64\n",
      "Fruits - Excluding Wine         float64\n",
      "Meat                            float64\n",
      "Miscellaneous                   float64\n",
      "Milk - Excluding Butter         float64\n",
      "Offals                          float64\n",
      "Oilcrops                        float64\n",
      "Pulses                          float64\n",
      "Spices                          float64\n",
      "Starchy Roots                   float64\n",
      "Stimulants                      float64\n",
      "Sugar Crops                     float64\n",
      "Sugar & Sweeteners              float64\n",
      "Treenuts                        float64\n",
      "Vegetal Products                float64\n",
      "Vegetable Oils                  float64\n",
      "Vegetables                      float64\n",
      "Obesity                         float64\n",
      "Undernourished                   object\n",
      "Confirmed                       float64\n",
      "Deaths                          float64\n",
      "Recovered                       float64\n",
      "Active                          float64\n",
      "Population                      float64\n",
      "Unit (all except Population)     object\n",
      "dtype: object\n"
     ]
    }
   ],
   "source": [
    "# Display the data types of each variable in the DataFrame\n",
    "print(fat_quantity.dtypes)\n"
   ]
  },
  {
   "attachments": {},
   "cell_type": "markdown",
   "metadata": {},
   "source": [
    "Explore the variables that are not of float type and see of you can convert them in to float type."
   ]
  },
  {
   "cell_type": "code",
   "execution_count": 9,
   "metadata": {},
   "outputs": [
    {
     "name": "stdout",
     "output_type": "stream",
     "text": [
      "<class 'pandas.core.frame.DataFrame'>\n",
      "Index: 154 entries, 0 to 169\n",
      "Data columns (total 32 columns):\n",
      " #   Column                        Non-Null Count  Dtype  \n",
      "---  ------                        --------------  -----  \n",
      " 0   Country                       154 non-null    object \n",
      " 1   Alcoholic Beverages           154 non-null    float64\n",
      " 2   Animal Products               154 non-null    float64\n",
      " 3   Animal fats                   154 non-null    float64\n",
      " 4   Aquatic Products, Other       154 non-null    float64\n",
      " 5   Cereals - Excluding Beer      154 non-null    float64\n",
      " 6   Eggs                          154 non-null    float64\n",
      " 7   Fish, Seafood                 154 non-null    float64\n",
      " 8   Fruits - Excluding Wine       154 non-null    float64\n",
      " 9   Meat                          154 non-null    float64\n",
      " 10  Miscellaneous                 154 non-null    float64\n",
      " 11  Milk - Excluding Butter       154 non-null    float64\n",
      " 12  Offals                        154 non-null    float64\n",
      " 13  Oilcrops                      154 non-null    float64\n",
      " 14  Pulses                        154 non-null    float64\n",
      " 15  Spices                        154 non-null    float64\n",
      " 16  Starchy Roots                 154 non-null    float64\n",
      " 17  Stimulants                    154 non-null    float64\n",
      " 18  Sugar Crops                   154 non-null    float64\n",
      " 19  Sugar & Sweeteners            154 non-null    float64\n",
      " 20  Treenuts                      154 non-null    float64\n",
      " 21  Vegetal Products              154 non-null    float64\n",
      " 22  Vegetable Oils                154 non-null    float64\n",
      " 23  Vegetables                    154 non-null    float64\n",
      " 24  Obesity                       154 non-null    float64\n",
      " 25  Undernourished                154 non-null    object \n",
      " 26  Confirmed                     154 non-null    float64\n",
      " 27  Deaths                        154 non-null    float64\n",
      " 28  Recovered                     154 non-null    float64\n",
      " 29  Active                        154 non-null    float64\n",
      " 30  Population                    154 non-null    float64\n",
      " 31  Unit (all except Population)  154 non-null    object \n",
      "dtypes: float64(29), object(3)\n",
      "memory usage: 39.7+ KB\n"
     ]
    }
   ],
   "source": [
    "# Display information about the DataFrame, including data types\n",
    "fat_quantity.info()\n"
   ]
  },
  {
   "cell_type": "code",
   "execution_count": 14,
   "metadata": {},
   "outputs": [
    {
     "data": {
      "text/html": [
       "<div>\n",
       "<style scoped>\n",
       "    .dataframe tbody tr th:only-of-type {\n",
       "        vertical-align: middle;\n",
       "    }\n",
       "\n",
       "    .dataframe tbody tr th {\n",
       "        vertical-align: top;\n",
       "    }\n",
       "\n",
       "    .dataframe thead th {\n",
       "        text-align: right;\n",
       "    }\n",
       "</style>\n",
       "<table border=\"1\" class=\"dataframe\">\n",
       "  <thead>\n",
       "    <tr style=\"text-align: right;\">\n",
       "      <th></th>\n",
       "      <th>Alcoholic Beverages</th>\n",
       "      <th>Animal Products</th>\n",
       "      <th>Animal fats</th>\n",
       "      <th>Aquatic Products, Other</th>\n",
       "      <th>Cereals - Excluding Beer</th>\n",
       "      <th>Eggs</th>\n",
       "      <th>Fish, Seafood</th>\n",
       "      <th>Fruits - Excluding Wine</th>\n",
       "      <th>Meat</th>\n",
       "      <th>Miscellaneous</th>\n",
       "      <th>...</th>\n",
       "      <th>Treenuts</th>\n",
       "      <th>Vegetal Products</th>\n",
       "      <th>Vegetable Oils</th>\n",
       "      <th>Vegetables</th>\n",
       "      <th>Obesity</th>\n",
       "      <th>Confirmed</th>\n",
       "      <th>Deaths</th>\n",
       "      <th>Recovered</th>\n",
       "      <th>Active</th>\n",
       "      <th>Population</th>\n",
       "    </tr>\n",
       "  </thead>\n",
       "  <tbody>\n",
       "    <tr>\n",
       "      <th>count</th>\n",
       "      <td>154.000000</td>\n",
       "      <td>154.000000</td>\n",
       "      <td>154.000000</td>\n",
       "      <td>154.000000</td>\n",
       "      <td>154.000000</td>\n",
       "      <td>154.000000</td>\n",
       "      <td>154.000000</td>\n",
       "      <td>154.000000</td>\n",
       "      <td>154.000000</td>\n",
       "      <td>154.000000</td>\n",
       "      <td>...</td>\n",
       "      <td>154.000000</td>\n",
       "      <td>154.000000</td>\n",
       "      <td>154.000000</td>\n",
       "      <td>154.000000</td>\n",
       "      <td>154.000000</td>\n",
       "      <td>154.000000</td>\n",
       "      <td>154.000000</td>\n",
       "      <td>154.000000</td>\n",
       "      <td>154.000000</td>\n",
       "      <td>1.540000e+02</td>\n",
       "    </tr>\n",
       "    <tr>\n",
       "      <th>mean</th>\n",
       "      <td>0.001142</td>\n",
       "      <td>20.371363</td>\n",
       "      <td>4.156129</td>\n",
       "      <td>0.000497</td>\n",
       "      <td>4.470623</td>\n",
       "      <td>0.947074</td>\n",
       "      <td>0.825396</td>\n",
       "      <td>0.536843</td>\n",
       "      <td>9.075049</td>\n",
       "      <td>0.050782</td>\n",
       "      <td>...</td>\n",
       "      <td>0.727281</td>\n",
       "      <td>29.628879</td>\n",
       "      <td>18.825103</td>\n",
       "      <td>0.306868</td>\n",
       "      <td>18.449351</td>\n",
       "      <td>1.361156</td>\n",
       "      <td>0.025905</td>\n",
       "      <td>0.915089</td>\n",
       "      <td>0.432761</td>\n",
       "      <td>4.796579e+07</td>\n",
       "    </tr>\n",
       "    <tr>\n",
       "      <th>std</th>\n",
       "      <td>0.010051</td>\n",
       "      <td>8.027724</td>\n",
       "      <td>3.360236</td>\n",
       "      <td>0.004242</td>\n",
       "      <td>3.248573</td>\n",
       "      <td>0.661384</td>\n",
       "      <td>0.930353</td>\n",
       "      <td>0.856490</td>\n",
       "      <td>4.456419</td>\n",
       "      <td>0.065645</td>\n",
       "      <td>...</td>\n",
       "      <td>0.845867</td>\n",
       "      <td>8.027314</td>\n",
       "      <td>6.824286</td>\n",
       "      <td>0.205127</td>\n",
       "      <td>9.519483</td>\n",
       "      <td>1.580931</td>\n",
       "      <td>0.033431</td>\n",
       "      <td>1.195862</td>\n",
       "      <td>0.884804</td>\n",
       "      <td>1.639258e+08</td>\n",
       "    </tr>\n",
       "    <tr>\n",
       "      <th>min</th>\n",
       "      <td>0.000000</td>\n",
       "      <td>5.018200</td>\n",
       "      <td>0.167800</td>\n",
       "      <td>0.000000</td>\n",
       "      <td>0.990800</td>\n",
       "      <td>0.058000</td>\n",
       "      <td>0.031500</td>\n",
       "      <td>0.037300</td>\n",
       "      <td>0.906100</td>\n",
       "      <td>0.000000</td>\n",
       "      <td>...</td>\n",
       "      <td>0.000000</td>\n",
       "      <td>13.098200</td>\n",
       "      <td>4.954900</td>\n",
       "      <td>0.026300</td>\n",
       "      <td>2.100000</td>\n",
       "      <td>0.000312</td>\n",
       "      <td>0.000000</td>\n",
       "      <td>0.000000</td>\n",
       "      <td>0.000000</td>\n",
       "      <td>7.200000e+04</td>\n",
       "    </tr>\n",
       "    <tr>\n",
       "      <th>25%</th>\n",
       "      <td>0.000000</td>\n",
       "      <td>14.531900</td>\n",
       "      <td>1.624975</td>\n",
       "      <td>0.000000</td>\n",
       "      <td>2.010925</td>\n",
       "      <td>0.363475</td>\n",
       "      <td>0.320300</td>\n",
       "      <td>0.235125</td>\n",
       "      <td>6.029075</td>\n",
       "      <td>0.009425</td>\n",
       "      <td>...</td>\n",
       "      <td>0.130150</td>\n",
       "      <td>23.293600</td>\n",
       "      <td>14.029650</td>\n",
       "      <td>0.175725</td>\n",
       "      <td>8.250000</td>\n",
       "      <td>0.096013</td>\n",
       "      <td>0.001591</td>\n",
       "      <td>0.063172</td>\n",
       "      <td>0.006266</td>\n",
       "      <td>3.403500e+06</td>\n",
       "    </tr>\n",
       "    <tr>\n",
       "      <th>50%</th>\n",
       "      <td>0.000000</td>\n",
       "      <td>20.099700</td>\n",
       "      <td>3.304450</td>\n",
       "      <td>0.000000</td>\n",
       "      <td>3.454750</td>\n",
       "      <td>0.867750</td>\n",
       "      <td>0.567000</td>\n",
       "      <td>0.366000</td>\n",
       "      <td>8.964900</td>\n",
       "      <td>0.028000</td>\n",
       "      <td>...</td>\n",
       "      <td>0.500950</td>\n",
       "      <td>29.902150</td>\n",
       "      <td>18.363000</td>\n",
       "      <td>0.247050</td>\n",
       "      <td>21.300000</td>\n",
       "      <td>0.682889</td>\n",
       "      <td>0.008301</td>\n",
       "      <td>0.360716</td>\n",
       "      <td>0.059554</td>\n",
       "      <td>1.058950e+07</td>\n",
       "    </tr>\n",
       "    <tr>\n",
       "      <th>75%</th>\n",
       "      <td>0.000000</td>\n",
       "      <td>26.707425</td>\n",
       "      <td>6.253750</td>\n",
       "      <td>0.000000</td>\n",
       "      <td>5.694575</td>\n",
       "      <td>1.251575</td>\n",
       "      <td>1.021775</td>\n",
       "      <td>0.577800</td>\n",
       "      <td>11.396200</td>\n",
       "      <td>0.067675</td>\n",
       "      <td>...</td>\n",
       "      <td>0.934250</td>\n",
       "      <td>35.471300</td>\n",
       "      <td>23.697575</td>\n",
       "      <td>0.362925</td>\n",
       "      <td>25.700000</td>\n",
       "      <td>2.235665</td>\n",
       "      <td>0.035464</td>\n",
       "      <td>1.281670</td>\n",
       "      <td>0.452488</td>\n",
       "      <td>3.383650e+07</td>\n",
       "    </tr>\n",
       "    <tr>\n",
       "      <th>max</th>\n",
       "      <td>0.097600</td>\n",
       "      <td>36.901800</td>\n",
       "      <td>14.937300</td>\n",
       "      <td>0.051100</td>\n",
       "      <td>18.376300</td>\n",
       "      <td>3.275600</td>\n",
       "      <td>8.406800</td>\n",
       "      <td>9.672700</td>\n",
       "      <td>26.429200</td>\n",
       "      <td>0.456100</td>\n",
       "      <td>...</td>\n",
       "      <td>4.975600</td>\n",
       "      <td>44.981800</td>\n",
       "      <td>36.418600</td>\n",
       "      <td>1.153800</td>\n",
       "      <td>45.500000</td>\n",
       "      <td>6.720740</td>\n",
       "      <td>0.156787</td>\n",
       "      <td>5.279589</td>\n",
       "      <td>5.133799</td>\n",
       "      <td>1.402385e+09</td>\n",
       "    </tr>\n",
       "  </tbody>\n",
       "</table>\n",
       "<p>8 rows × 29 columns</p>\n",
       "</div>"
      ],
      "text/plain": [
       "       Alcoholic Beverages  Animal Products  Animal fats  \\\n",
       "count           154.000000       154.000000   154.000000   \n",
       "mean              0.001142        20.371363     4.156129   \n",
       "std               0.010051         8.027724     3.360236   \n",
       "min               0.000000         5.018200     0.167800   \n",
       "25%               0.000000        14.531900     1.624975   \n",
       "50%               0.000000        20.099700     3.304450   \n",
       "75%               0.000000        26.707425     6.253750   \n",
       "max               0.097600        36.901800    14.937300   \n",
       "\n",
       "       Aquatic Products, Other  Cereals - Excluding Beer        Eggs  \\\n",
       "count               154.000000                154.000000  154.000000   \n",
       "mean                  0.000497                  4.470623    0.947074   \n",
       "std                   0.004242                  3.248573    0.661384   \n",
       "min                   0.000000                  0.990800    0.058000   \n",
       "25%                   0.000000                  2.010925    0.363475   \n",
       "50%                   0.000000                  3.454750    0.867750   \n",
       "75%                   0.000000                  5.694575    1.251575   \n",
       "max                   0.051100                 18.376300    3.275600   \n",
       "\n",
       "       Fish, Seafood  Fruits - Excluding Wine        Meat  Miscellaneous  ...  \\\n",
       "count     154.000000               154.000000  154.000000     154.000000  ...   \n",
       "mean        0.825396                 0.536843    9.075049       0.050782  ...   \n",
       "std         0.930353                 0.856490    4.456419       0.065645  ...   \n",
       "min         0.031500                 0.037300    0.906100       0.000000  ...   \n",
       "25%         0.320300                 0.235125    6.029075       0.009425  ...   \n",
       "50%         0.567000                 0.366000    8.964900       0.028000  ...   \n",
       "75%         1.021775                 0.577800   11.396200       0.067675  ...   \n",
       "max         8.406800                 9.672700   26.429200       0.456100  ...   \n",
       "\n",
       "         Treenuts  Vegetal Products  Vegetable Oils  Vegetables     Obesity  \\\n",
       "count  154.000000        154.000000      154.000000  154.000000  154.000000   \n",
       "mean     0.727281         29.628879       18.825103    0.306868   18.449351   \n",
       "std      0.845867          8.027314        6.824286    0.205127    9.519483   \n",
       "min      0.000000         13.098200        4.954900    0.026300    2.100000   \n",
       "25%      0.130150         23.293600       14.029650    0.175725    8.250000   \n",
       "50%      0.500950         29.902150       18.363000    0.247050   21.300000   \n",
       "75%      0.934250         35.471300       23.697575    0.362925   25.700000   \n",
       "max      4.975600         44.981800       36.418600    1.153800   45.500000   \n",
       "\n",
       "        Confirmed      Deaths   Recovered      Active    Population  \n",
       "count  154.000000  154.000000  154.000000  154.000000  1.540000e+02  \n",
       "mean     1.361156    0.025905    0.915089    0.432761  4.796579e+07  \n",
       "std      1.580931    0.033431    1.195862    0.884804  1.639258e+08  \n",
       "min      0.000312    0.000000    0.000000    0.000000  7.200000e+04  \n",
       "25%      0.096013    0.001591    0.063172    0.006266  3.403500e+06  \n",
       "50%      0.682889    0.008301    0.360716    0.059554  1.058950e+07  \n",
       "75%      2.235665    0.035464    1.281670    0.452488  3.383650e+07  \n",
       "max      6.720740    0.156787    5.279589    5.133799  1.402385e+09  \n",
       "\n",
       "[8 rows x 29 columns]"
      ]
     },
     "execution_count": 14,
     "metadata": {},
     "output_type": "execute_result"
    }
   ],
   "source": [
    "fat_quantity.describe()"
   ]
  },
  {
   "cell_type": "code",
   "execution_count": 17,
   "metadata": {},
   "outputs": [
    {
     "data": {
      "image/png": "[encoded data removed]",
      "text/plain": [
       "<Figure size 1152x864 with 30 Axes>"
      ]
     },
     "metadata": {
      "needs_background": "light"
     },
     "output_type": "display_data"
    }
   ],
   "source": [
    "rcParams['figure.figsize'] = 16,12\n",
    "plots = fat_quantity.hist()"
   ]
  },
  {
   "attachments": {},
   "cell_type": "markdown",
   "metadata": {},
   "source": [
    "# Clustering"
   ]
  },
  {
   "attachments": {},
   "cell_type": "markdown",
   "metadata": {},
   "source": [
    "## Data preparation"
   ]
  },
  {
   "attachments": {},
   "cell_type": "markdown",
   "metadata": {},
   "source": [
    "Scale the dataset"
   ]
  },
  {
   "cell_type": "code",
   "execution_count": 18,
   "metadata": {},
   "outputs": [
    {
     "name": "stdout",
     "output_type": "stream",
     "text": [
      "       Country  Alcoholic Beverages  Animal Products  Animal fats  \\\n",
      "0  Afghanistan            -0.114015         0.158510     0.616925   \n",
      "1      Albania            -0.114015         1.453311    -0.220621   \n",
      "2      Algeria            -0.114015        -0.744082    -0.973016   \n",
      "3       Angola            -0.114015        -0.633280    -0.848871   \n",
      "5    Argentina            -0.114015         1.247977    -0.253345   \n",
      "\n",
      "   Aquatic Products, Other  Cereals - Excluding Beer      Eggs  Fish, Seafood  \\\n",
      "0                -0.117474                  1.100886 -0.396178      -0.854818   \n",
      "1                -0.117474                 -0.555040  1.058390      -0.734257   \n",
      "2                -0.117474                 -0.082496  0.409606      -0.673545   \n",
      "3                -0.117474                  0.643568 -1.203176       0.636349   \n",
      "5                -0.117474                 -0.969430  0.945835      -0.710640   \n",
      "\n",
      "   Fruits - Excluding Wine      Meat  ...  Vegetable Oils  Vegetables  \\\n",
      "0                -0.131477 -0.664272  ...       -0.256098    0.256444   \n",
      "1                 0.122943 -0.074798  ...       -1.408508    1.679710   \n",
      "2                 0.047273 -1.165924  ...        1.254834    1.015519   \n",
      "3                -0.220267  0.439393  ...        0.534938   -0.898797   \n",
      "5                -0.383906  2.295007  ...       -0.222050   -0.582353   \n",
      "\n",
      "    Obesity  Undernourished  Confirmed    Deaths  Recovered    Active  \\\n",
      "0 -1.470128            29.8  -0.784373 -0.625624  -0.685271 -0.465950   \n",
      "1  0.405822             6.2   0.236162  0.296928  -0.034002  0.442416   \n",
      "2  0.859001             3.9  -0.731317 -0.600903  -0.652549 -0.416312   \n",
      "3 -1.227730              25  -0.832032 -0.743088  -0.744688 -0.466360   \n",
      "5  1.059243             4.6   1.238480  1.936797   1.709949 -0.185693   \n",
      "\n",
      "   Population  Unit (all except Population)  \n",
      "0   -0.055313                             %  \n",
      "1   -0.276192                             %  \n",
      "2   -0.022087                             %  \n",
      "3   -0.094519                             %  \n",
      "5   -0.015844                             %  \n",
      "\n",
      "[5 rows x 32 columns]\n"
     ]
    }
   ],
   "source": [
    "\n",
    "\n",
    "# Select numeric columns for scaling (excluding non-numeric columns)\n",
    "numeric_columns = fat_quantity.select_dtypes(include=['float64']).columns\n",
    "\n",
    "# Create a StandardScaler object\n",
    "scaler = StandardScaler()\n",
    "\n",
    "# Fit the scaler on the selected columns and transform the data\n",
    "fat_quantity[numeric_columns] = scaler.fit_transform(fat_quantity[numeric_columns])\n",
    "\n",
    "# Display the first few rows of the scaled DataFrame\n",
    "print(fat_quantity.head())\n"
   ]
  },
  {
   "attachments": {},
   "cell_type": "markdown",
   "metadata": {},
   "source": [
    "## Plot some data"
   ]
  },
  {
   "attachments": {},
   "cell_type": "markdown",
   "metadata": {},
   "source": [
    "Now, we want to visualize some variables for each state. To do so, we use plotly express to have the possibility to hover on a scatter plot and see the statistics per country clearer as explained here."
   ]
  },
  {
   "attachments": {},
   "cell_type": "markdown",
   "metadata": {},
   "source": [
    "https://plotly.com/python/hover-text-and-formatting/#:~:text=Basic%20Charts%20tutorials.-,Hover%20Labels,having%20a%20hover%20label%20appear."
   ]
  },
  {
   "attachments": {},
   "cell_type": "markdown",
   "metadata": {},
   "source": [
    "Plot the \"Obesity\" vs \"Deaths\" statistics"
   ]
  },
  {
   "cell_type": "code",
   "execution_count": null,
   "metadata": {},
   "outputs": [],
   "source": []
  },
  {
   "attachments": {},
   "cell_type": "markdown",
   "metadata": {},
   "source": [
    "Plot the \"Animal fats\" vs \"Deaths\" statistics"
   ]
  },
  {
   "cell_type": "code",
   "execution_count": null,
   "metadata": {},
   "outputs": [],
   "source": []
  },
  {
   "attachments": {},
   "cell_type": "markdown",
   "metadata": {},
   "source": [
    "## K-means and Elbow method"
   ]
  },
  {
   "attachments": {},
   "cell_type": "markdown",
   "metadata": {},
   "source": [
    "We start with the K-Means model:\n",
    "- use the scikit-learn method\n",
    "- use the method you implemented.\n",
    "\n",
    "Use a graphical tool, the elbow method, to estimate the optimal number of clusters k for a given task.\n",
    "- Determine the optimal number of clusters for the previous 2 plots."
   ]
  },
  {
   "cell_type": "code",
   "execution_count": 1,
   "metadata": {},
   "outputs": [],
   "source": [
    "from sklearn.cluster import KMeans\n"
   ]
  },
  {
   "attachments": {},
   "cell_type": "markdown",
   "metadata": {},
   "source": [
    "Plot the obtained clusters"
   ]
  },
  {
   "cell_type": "code",
   "execution_count": null,
   "metadata": {},
   "outputs": [],
   "source": []
  },
  {
   "attachments": {},
   "cell_type": "markdown",
   "metadata": {},
   "source": [
    "## Other clustering methods"
   ]
  },
  {
   "attachments": {},
   "cell_type": "markdown",
   "metadata": {},
   "source": [
    "We are going to explore other clustering methods, such as Mean-Shift.\n",
    "\n",
    "You can read more about it in the next ressource:\n",
    "https://scikit-learn.org/stable/modules/clustering.html\n"
   ]
  },
  {
   "attachments": {},
   "cell_type": "markdown",
   "metadata": {},
   "source": [
    "Apply the method to our datasets made of 2 variables (\"Obesity\" vs \"Deaths\")"
   ]
  },
  {
   "cell_type": "code",
   "execution_count": 2,
   "metadata": {},
   "outputs": [],
   "source": [
    "# Mean-Shift\n",
    "from sklearn.cluster import MeanShift, estimate_bandwidth\n"
   ]
  },
  {
   "attachments": {},
   "cell_type": "markdown",
   "metadata": {},
   "source": [
    "Plot the obtained clusters"
   ]
  },
  {
   "cell_type": "code",
   "execution_count": null,
   "metadata": {},
   "outputs": [],
   "source": []
  },
  {
   "attachments": {},
   "cell_type": "markdown",
   "metadata": {},
   "source": [
    "Check out other algorithms such as DBSAN or OPTICS, why are these algorithms very interesting and in what cases? "
   ]
  },
  {
   "cell_type": "code",
   "execution_count": 36,
   "metadata": {},
   "outputs": [],
   "source": [
    "from sklearn.cluster import DBSCAN\n"
   ]
  },
  {
   "cell_type": "code",
   "execution_count": null,
   "metadata": {},
   "outputs": [],
   "source": []
  },
  {
   "attachments": {},
   "cell_type": "markdown",
   "metadata": {},
   "source": [
    "# Regression and prediction"
   ]
  },
  {
   "attachments": {},
   "cell_type": "markdown",
   "metadata": {},
   "source": [
    "Given this dataset and the emphasis we have already laid on deaths through clustering, it would be interesting to study this dataset for a classification purpose and see how accurately we can predict the mortality rate in fonction of the given features."
   ]
  },
  {
   "attachments": {},
   "cell_type": "markdown",
   "metadata": {},
   "source": [
    "## Creating train and test sets "
   ]
  },
  {
   "attachments": {},
   "cell_type": "markdown",
   "metadata": {},
   "source": [
    "Let's separate the data into a training and testing sets using random selection."
   ]
  },
  {
   "cell_type": "code",
   "execution_count": null,
   "metadata": {},
   "outputs": [],
   "source": []
  },
  {
   "attachments": {},
   "cell_type": "markdown",
   "metadata": {},
   "source": [
    "Now drop the labels from the training set and create a new variable for the labels."
   ]
  },
  {
   "cell_type": "code",
   "execution_count": 42,
   "metadata": {},
   "outputs": [],
   "source": []
  },
  {
   "attachments": {},
   "cell_type": "markdown",
   "metadata": {},
   "source": [
    "Scale the datasets."
   ]
  },
  {
   "cell_type": "code",
   "execution_count": 44,
   "metadata": {},
   "outputs": [],
   "source": []
  },
  {
   "attachments": {},
   "cell_type": "markdown",
   "metadata": {},
   "source": [
    "## Random Forest"
   ]
  },
  {
   "attachments": {},
   "cell_type": "markdown",
   "metadata": {},
   "source": [
    "Let's try a random forest model on the prepared fat_quantity training set."
   ]
  },
  {
   "cell_type": "code",
   "execution_count": 47,
   "metadata": {},
   "outputs": [
    {
     "data": {
      "text/plain": [
       "RandomForestRegressor(random_state=42)"
      ]
     },
     "execution_count": 47,
     "metadata": {},
     "output_type": "execute_result"
    }
   ],
   "source": []
  },
  {
   "attachments": {},
   "cell_type": "markdown",
   "metadata": {},
   "source": [
    "Now we predict."
   ]
  },
  {
   "cell_type": "code",
   "execution_count": null,
   "metadata": {},
   "outputs": [],
   "source": []
  },
  {
   "attachments": {},
   "cell_type": "markdown",
   "metadata": {},
   "source": [
    "Let's perform a 10 fold cross validation.\n",
    "And display the resulting scores:"
   ]
  },
  {
   "cell_type": "code",
   "execution_count": null,
   "metadata": {},
   "outputs": [],
   "source": []
  },
  {
   "attachments": {},
   "cell_type": "markdown",
   "metadata": {},
   "source": [
    "## Learning Curves analysis "
   ]
  },
  {
   "attachments": {},
   "cell_type": "markdown",
   "metadata": {},
   "source": [
    "Use the function seen in **Module 1 to plot learning curves with cross validation.** "
   ]
  },
  {
   "cell_type": "code",
   "execution_count": 31,
   "metadata": {},
   "outputs": [],
   "source": [
    "from sklearn.model_selection import learning_curve\n",
    "\n",
    "def plot_learning_curve(estimator, title, X, y, axes=None, ylim=None, cv=None,\n",
    "                        n_jobs=None, train_sizes=np.linspace(.1, 1.0, 5)):\n",
    "    pass"
   ]
  },
  {
   "attachments": {},
   "cell_type": "markdown",
   "metadata": {},
   "source": [
    "Try to interpret the obtained learning curve."
   ]
  },
  {
   "cell_type": "code",
   "execution_count": null,
   "metadata": {},
   "outputs": [],
   "source": []
  },
  {
   "attachments": {},
   "cell_type": "markdown",
   "metadata": {},
   "source": [
    "Perform a grid search to try to obtain the best hyperparameters. What is the best score that you obtained?"
   ]
  },
  {
   "cell_type": "code",
   "execution_count": 77,
   "metadata": {},
   "outputs": [],
   "source": []
  },
  {
   "attachments": {},
   "cell_type": "markdown",
   "metadata": {},
   "source": [
    "## SVM"
   ]
  },
  {
   "attachments": {},
   "cell_type": "markdown",
   "metadata": {},
   "source": [
    "Use the SVM regressor to estimate the death rate. See if you can get a better model than with the Random forest regressor."
   ]
  },
  {
   "cell_type": "code",
   "execution_count": null,
   "metadata": {},
   "outputs": [],
   "source": []
  },
  {
   "attachments": {},
   "cell_type": "markdown",
   "metadata": {},
   "source": [
    "## Linear regression"
   ]
  },
  {
   "cell_type": "code",
   "execution_count": 3,
   "metadata": {},
   "outputs": [],
   "source": []
  },
  {
   "attachments": {},
   "cell_type": "markdown",
   "metadata": {},
   "source": [
    "# Dimensionality reduction"
   ]
  },
  {
   "attachments": {},
   "cell_type": "markdown",
   "metadata": {},
   "source": [
    "Let's take a look at the whole dataset and see if there are any clusters.\n",
    "\n",
    "In order to do these perform and plot a PCA of 2 components.\n",
    "\n",
    "Dimensionality reduction is a way to reduce the number of features in your dataset without having to lose much information and keep the model’s performance. Check out the Random Forest based method and PCA for dimensionality reduction in the following ressource:\n",
    "\n",
    "https://www.analyticsvidhya.com/blog/2018/08/dimensionality-reduction-techniques-python/"
   ]
  },
  {
   "attachments": {},
   "cell_type": "markdown",
   "metadata": {},
   "source": [
    "## Random Forest feature selection"
   ]
  },
  {
   "cell_type": "code",
   "execution_count": 50,
   "metadata": {},
   "outputs": [],
   "source": []
  },
  {
   "attachments": {},
   "cell_type": "markdown",
   "metadata": {},
   "source": [
    "Plot the feature importance graph."
   ]
  },
  {
   "cell_type": "code",
   "execution_count": null,
   "metadata": {},
   "outputs": [],
   "source": []
  },
  {
   "attachments": {},
   "cell_type": "markdown",
   "metadata": {},
   "source": [
    "Comment the graph."
   ]
  },
  {
   "attachments": {},
   "cell_type": "markdown",
   "metadata": {},
   "source": [
    "## PCA dimensionality reduction"
   ]
  },
  {
   "attachments": {},
   "cell_type": "markdown",
   "metadata": {},
   "source": [
    "PCA is a technique which helps us in extracting a new set of variables from an existing large set of variables. Apply clustering methods on this new set of variables. Are the clusters obtained different than the clusters obtained on the \"Obesity\" vs \"Deaths\"?\n",
    "\n",
    "Apply the Elbow method to determne the right number of clusters.\n",
    "\n",
    "Use diverse methods to cluster the countries."
   ]
  },
  {
   "cell_type": "code",
   "execution_count": 52,
   "metadata": {},
   "outputs": [],
   "source": []
  }
 ],
 "metadata": {
  "kernelspec": {
   "display_name": "Python 3",
   "language": "python",
   "name": "python3"
  },
  "language_info": {
   "codemirror_mode": {
    "name": "ipython",
    "version": 3
   },
   "file_extension": ".py",
   "mimetype": "text/x-python",
   "name": "python",
   "nbconvert_exporter": "python",
   "pygments_lexer": "ipython3",
   "version": "3.10.12"
  },
  "toc": {
   "base_numbering": 1,
   "nav_menu": {},
   "number_sections": true,
   "sideBar": true,
   "skip_h1_title": false,
   "title_cell": "Table of Contents",
   "title_sidebar": "Contents",
   "toc_cell": false,
   "toc_position": {},
   "toc_section_display": true,
   "toc_window_display": true
  },
  "varInspector": {
   "cols": {
    "lenName": 16,
    "lenType": 16,
    "lenVar": 40
   },
   "kernels_config": {
    "python": {
     "delete_cmd_postfix": "",
     "delete_cmd_prefix": "del ",
     "library": "var_list.py",
     "varRefreshCmd": "print(var_dic_list())"
    },
    "r": {
     "delete_cmd_postfix": ") ",
     "delete_cmd_prefix": "rm(",
     "library": "var_list.r",
     "varRefreshCmd": "cat(var_dic_list()) "
    }
   },
   "types_to_exclude": [
    "module",
    "function",
    "builtin_function_or_method",
    "instance",
    "_Feature"
   ],
   "window_display": false
  }
 },
 "nbformat": 4,
 "nbformat_minor": 4
}
