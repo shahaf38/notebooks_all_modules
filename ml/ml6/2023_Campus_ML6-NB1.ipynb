{
 "cells": [
  {
   "cell_type": "markdown",
   "id": "e2dd3c2c",
   "metadata": {},
   "source": [
    "# Time series prediction (Part 1 - 1 day)"
   ]
  },
  {
   "cell_type": "markdown",
   "id": "399da4c9",
   "metadata": {},
   "source": [
    "**NB objective**\n",
    "- [ ] Get to know the theory behind time series\n",
    "- [ ] Discover main time series analysis challenges"
   ]
  },
  {
   "cell_type": "markdown",
   "id": "3445fd01",
   "metadata": {},
   "source": [
    "**Required librairies**\n",
    "- [ ] matplotlib\n",
    "- [ ] numpy\n",
    "- [ ] pandas\n",
    "- [ ] seaborn\n",
    "- [ ] pmdarima"
   ]
  },
  {
   "cell_type": "markdown",
   "id": "651f1513",
   "metadata": {},
   "source": [
    "## How to deal with Time series ?"
   ]
  },
  {
   "cell_type": "markdown",
   "id": "fb876e11",
   "metadata": {},
   "source": [
    "To be brief, when dealing with time series, few checks are required and for your greatest pleasure... a bit of theory helps... \n",
    "😁"
   ]
  },
  {
   "cell_type": "markdown",
   "id": "c517d49e",
   "metadata": {},
   "source": [
    "### Theory"
   ]
  },
  {
   "cell_type": "markdown",
   "id": "da6020aa",
   "metadata": {},
   "source": [
    "#### Tendancy and seasonality"
   ]
  },
  {
   "cell_type": "code",
   "execution_count": null,
   "id": "60c53ebe",
   "metadata": {},
   "outputs": [],
   "source": [
    "# Add a small resume for tendancy, seasonality residue\n",
    "# What is additive decomposition?"
   ]
  },
  {
   "cell_type": "markdown",
   "id": "46a429d5",
   "metadata": {},
   "source": [
    "#### Autocorrelation partial or not"
   ]
  },
  {
   "cell_type": "code",
   "execution_count": null,
   "id": "faa4fa36",
   "metadata": {},
   "outputs": [],
   "source": [
    "# Explain the following fonction"
   ]
  },
  {
   "cell_type": "markdown",
   "id": "8c390099",
   "metadata": {},
   "source": [
    "$ p(h) = corr(Y_t, Y_t-_h) $"
   ]
  },
  {
   "cell_type": "markdown",
   "id": "747f774a",
   "metadata": {},
   "source": [
    "#### Stationarity"
   ]
  },
  {
   "cell_type": "code",
   "execution_count": null,
   "id": "0f685f39",
   "metadata": {},
   "outputs": [],
   "source": [
    "# Resume conditions for a time serie to be considered as stationary"
   ]
  },
  {
   "cell_type": "markdown",
   "id": "3e3f0563",
   "metadata": {},
   "source": [
    "#### Heteroskedasticity"
   ]
  },
  {
   "cell_type": "code",
   "execution_count": null,
   "id": "fbc3bbcd",
   "metadata": {},
   "outputs": [],
   "source": [
    "# Explain and resume conditions for a time series to be heteroskedastic\n",
    "# Why is it important to test heteroskedasticity before any regression analysis?"
   ]
  },
  {
   "cell_type": "markdown",
   "id": "9a191146",
   "metadata": {},
   "source": [
    "## Time series analysis"
   ]
  },
  {
   "cell_type": "markdown",
   "id": "83b4deb8",
   "metadata": {},
   "source": [
    "**Data analysis**"
   ]
  },
  {
   "cell_type": "code",
   "execution_count": null,
   "id": "c6d47719",
   "metadata": {},
   "outputs": [],
   "source": [
    "# Load data\n",
    "from pmdarima.datasets import load_airpassengers\n",
    "# Write definitions to visualize, describe and eventually clean data\n",
    "# Write definition to assess autocorrelation and stationarity \n",
    "# Write definition to test the heteroskedasticity\n",
    "# Write definition to change sampling (D/M/Y)"
   ]
  },
  {
   "cell_type": "markdown",
   "id": "ba6591ce",
   "metadata": {},
   "source": [
    "## Automatization (optionnal when ex finished on day1)"
   ]
  },
  {
   "cell_type": "markdown",
   "id": "1ed75de1",
   "metadata": {},
   "source": [
    "**TODO - Write a class with the following methods:**\n",
    "* A `check format` method to check format and eventually change it to datetime format\n",
    "* A `Visualize` method with <span style=\"color:red\"> Plotly</span>\n",
    "* A `Test_stats` method for each theoretical point seen previously (tendancy, seasonality...)\n",
    "* A `Report` method to provide a report about observations on your dataset."
   ]
  },
  {
   "cell_type": "code",
   "execution_count": null,
   "id": "c06b7637",
   "metadata": {},
   "outputs": [],
   "source": []
  }
 ],
 "metadata": {
  "kernelspec": {
   "display_name": "Python (vibration_env)",
   "language": "python",
   "name": "vibration_env"
  },
  "language_info": {
   "codemirror_mode": {
    "name": "ipython",
    "version": 3
   },
   "file_extension": ".py",
   "mimetype": "text/x-python",
   "name": "python",
   "nbconvert_exporter": "python",
   "pygments_lexer": "ipython3",
   "version": "3.8.0"
  },
  "toc": {
   "base_numbering": 1,
   "nav_menu": {},
   "number_sections": true,
   "sideBar": true,
   "skip_h1_title": false,
   "title_cell": "Table of Contents",
   "title_sidebar": "Contents",
   "toc_cell": false,
   "toc_position": {},
   "toc_section_display": true,
   "toc_window_display": false
  }
 },
 "nbformat": 4,
 "nbformat_minor": 5
}
