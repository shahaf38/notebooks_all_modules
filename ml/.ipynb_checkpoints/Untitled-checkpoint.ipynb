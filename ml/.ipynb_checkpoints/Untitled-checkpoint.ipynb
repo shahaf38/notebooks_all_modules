{
 "cells": [
  {
   "cell_type": "markdown",
   "id": "707bd25e-6caf-434e-b765-731e313e2d96",
   "metadata": {},
   "source": [
    "# Data import and cleaning"
   ]
  },
  {
   "cell_type": "code",
   "execution_count": 1,
   "id": "16964cba-d526-4c24-a778-f093441163ef",
   "metadata": {
    "tags": []
   },
   "outputs": [],
   "source": [
    "import numpy as np\n",
    "import pandas as pd\n",
    "import matplotlib.pyplot as plt\n",
    "import seaborn as sns"
   ]
  },
  {
   "cell_type": "code",
   "execution_count": 2,
   "id": "754f0986-dea5-4463-8116-73a2ce750439",
   "metadata": {
    "tags": []
   },
   "outputs": [],
   "source": [
    "sns.set()"
   ]
  },
  {
   "cell_type": "code",
   "execution_count": 3,
   "id": "c7d5f4b6-d4cf-4637-9ab3-d8b98f840254",
   "metadata": {
    "tags": []
   },
   "outputs": [],
   "source": [
    "df = pd.read_csv('arbres_grenoble_epsg4326.csv')"
   ]
  },
  {
   "cell_type": "code",
   "execution_count": null,
   "id": "837a939d-f466-44b9-bf5e-6b45f64974f9",
   "metadata": {},
   "outputs": [],
   "source": []
  }
 ],
 "metadata": {
  "kernelspec": {
   "display_name": "Python 3 (ipykernel)",
   "language": "python",
   "name": "python3"
  },
  "language_info": {
   "codemirror_mode": {
    "name": "ipython",
    "version": 3
   },
   "file_extension": ".py",
   "mimetype": "text/x-python",
   "name": "python",
   "nbconvert_exporter": "python",
   "pygments_lexer": "ipython3",
   "version": "3.11.5"
  }
 },
 "nbformat": 4,
 "nbformat_minor": 5
}
