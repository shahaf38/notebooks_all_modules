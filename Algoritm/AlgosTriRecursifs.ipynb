{
 "cells": [
  {
   "cell_type": "markdown",
   "metadata": {},
   "source": [
    "# 0 Mise en place des fonctions de travail "
   ]
  },
  {
   "cell_type": "code",
   "execution_count": 11,
   "metadata": {},
   "outputs": [],
   "source": [
    "#from sorting import *\n",
    "import random\n",
    "\n",
    "def generate_random_array(debug=False, N=21):\n",
    "    \n",
    "    \"\"\"Renvoie un tableau contenant toutes les valeurs entières de 0 (inclus)\n",
    "    à N (exclus) rangées dans un ordre aléatoire\n",
    "\n",
    "    Args:\n",
    "        debug (boolean): quand debug est vrai, la fonction renvoie toujours le\n",
    "                         même tableau afin de simplifier le débogage de vos\n",
    "                         algorithmes de tri\n",
    "        N (int): la taille du tableau à renvoyer\n",
    "\n",
    "    Returns:\n",
    "        list[int]: un tableau d'entiers, de taille N, non ordonné\n",
    "    \"\"\"\n",
    "\n",
    "    if debug:\n",
    "        return [3, 9, 7, 1, 6, 2, 8, 4, 5, 0]\n",
    "\n",
    "    array = list(range(0, N))\n",
    "    random.shuffle(array)\n",
    "\n",
    "    return array"
   ]
  },
  {
   "cell_type": "code",
   "execution_count": 12,
   "metadata": {},
   "outputs": [
    {
     "name": "stdout",
     "output_type": "stream",
     "text": [
      "[12, 8, 7, 9, 1, 18, 11, 3, 2, 20, 5, 19, 4, 16, 10, 14, 17, 0, 6, 13, 15]\n",
      "[3, 9, 7, 1, 6, 2, 8, 4, 5, 0]\n",
      "[25, 29, 27, 12, 5, 19, 16, 11, 24, 10, 1, 30, 4, 6, 22, 13, 14, 0, 9, 26, 20, 23, 2, 8, 15, 7, 21, 18, 17, 28, 3]\n"
     ]
    }
   ],
   "source": [
    "print (generate_random_array())\n",
    "print(generate_random_array(True))\n",
    "print(generate_random_array(N=31))\n"
   ]
  },
  {
   "cell_type": "code",
   "execution_count": 17,
   "metadata": {},
   "outputs": [],
   "source": [
    "def swap(tab, i, j):\n",
    "    \"\"\"Échange la place des éléments aux indices i et j du tableau\"\"\"\n",
    "    assert i < len(tab) and j < len(tab) #warning; i or j is out of index\n",
    "    assert i >= 0 and j >= 0 #warning; i or j is under 0 \n",
    "    tab[i], tab[j]=tab[j],tab[i]\n",
    "\n",
    "    \n",
    "\n"
   ]
  },
  {
   "cell_type": "code",
   "execution_count": 18,
   "metadata": {},
   "outputs": [
    {
     "name": "stdout",
     "output_type": "stream",
     "text": [
      "[20, 19, 5, 11, 4, 0, 6, 18, 7, 15, 8, 9, 13, 17, 3, 14, 2, 1, 16, 12, 10]\n",
      "[5, 19, 20, 11, 4, 0, 6, 18, 7, 15, 8, 9, 13, 17, 3, 14, 2, 1, 16, 12, 10]\n"
     ]
    }
   ],
   "source": [
    "random_array = generate_random_array()\n",
    "print(random_array)\n",
    "\n",
    "swap(random_array, 0, 2)\n",
    "print(random_array)"
   ]
  },
  {
   "cell_type": "markdown",
   "metadata": {},
   "source": [
    "# 1 Les tris recursif "
   ]
  },
  {
   "cell_type": "markdown",
   "metadata": {},
   "source": [
    "## 1.1 Merge Sort"
   ]
  },
  {
   "cell_type": "code",
   "execution_count": 19,
   "metadata": {},
   "outputs": [
    {
     "data": {
      "image/jpeg": "[encoded data removed]",
      "text/html": [
       "\n",
       "        <iframe\n",
       "            width=\"900\"\n",
       "            height=\"600\"\n",
       "            src=\"https://www.youtube.com/embed/XaqR3G_NVoo\"\n",
       "            frameborder=\"0\"\n",
       "            allowfullscreen\n",
       "            \n",
       "        ></iframe>\n",
       "        "
      ],
      "text/plain": [
       "<IPython.lib.display.YouTubeVideo at 0x7f172a31a7a0>"
      ]
     },
     "execution_count": 19,
     "metadata": {},
     "output_type": "execute_result"
    }
   ],
   "source": [
    "from IPython.display import YouTubeVideo\n",
    "\n",
    "YouTubeVideo('XaqR3G_NVoo', height=600, width=900)"
   ]
  },
  {
   "cell_type": "markdown",
   "metadata": {},
   "source": [
    "**Un pseudocode possible** *(source : Wikipedia)*\n",
    "\n",
    "```\n",
    "procedure tri_fusion (E/S t :Tableau[1..MAX] d’Entier,E nb :Naturel) \n",
    "debut\n",
    "    tri_fusion_recursif(t,0,nb)\n",
    "fin\n",
    "\n",
    "procedure tri_fusion_recursif (E/S t :Tableau[1..MAX] d’Entier,E d,f :Naturel) \n",
    "debut\n",
    "    si d < f - 1  alors\n",
    "        m = (d+f) div 2\n",
    "        tri_fusion_recursif(t,d, m) \n",
    "        tri_fusion_recursif(t, m+1,f) \n",
    "        fusionnner(t,d,m,f)\n",
    "    finsi\n",
    "fin\n",
    "\n",
    "procedure fusionner (E/S t : Tableau[1..MAX] d’Entier ; E debut,milieu,fin : Naturel) \n",
    "    Declaration i,j,k : Naturel,\n",
    "                 temp : Tableau[1..MAX] d’Entier\n",
    "debut\n",
    "    i ← debut\n",
    "    j ← milieu\n",
    "    pour k ← debut a fin faire\n",
    "        si i < milieu et j <fin alors \n",
    "            si t[i] <= t[j] alors\n",
    "                temp[k] ← t[i]\n",
    "                i ← i+1 \n",
    "            sinon\n",
    "                temp[k] ← t[j]\n",
    "                j ← j+1 \n",
    "            finsi\n",
    "        sinon\n",
    "            si i < milieu alors\n",
    "                temp[k] ← t[i]\n",
    "                i ← i+1 \n",
    "            sinon\n",
    "                temp[k] ← t[j]\n",
    "                j ← j+1 \n",
    "            finsi\n",
    "        finsi\n",
    "    fin pour\n",
    "    \n",
    "    pour k ← debut à fin faire \n",
    "        t[k] ← temp[k]\n",
    "    fin pour\n",
    "fin\n",
    "    \n",
    "```"
   ]
  },
  {
   "cell_type": "code",
   "execution_count": 33,
   "metadata": {},
   "outputs": [],
   "source": [
    "def merge_sort(tab):\n",
    "    \"\"\"Trie le tableau via le principe de « diviser pour mieux régner »\n",
    "    avec l'intelligence du tri qui se trouve au moment de la fusion\"\"\"\n",
    "\n",
    "    merge_sort_r(tab, 0, len(tab))\n",
    "    \n",
    "def merge_sort_r(tab, start, end):\n",
    "    if start < end-1 :\n",
    "        middle = ( start + end )//2\n",
    "        merge_sort_r(tab, start, middle)\n",
    "        merge_sort_r(tab, middle, end)\n",
    "        merge(tab, start, middle, end)\n",
    "\n",
    "\n",
    "def merge(tab, start, middle, end):\n",
    "    temp = tab.copy()\n",
    "    #\"left_half = tab[start:middle] \n",
    "    #\"right_half = tab[middle:end]\n",
    "    \n",
    "    \n",
    "    i = start\n",
    "    j = middle\n",
    "   \n",
    "    \n",
    "    for k in range(start, end):\n",
    "        if i < middle and j< end: \n",
    "            if tab [i] <= tab[j]:\n",
    "                temp[k]= tab[i]\n",
    "                i=i+1\n",
    "            else:\n",
    "                temp[k]=tab[j]\n",
    "                j=j+1\n",
    "                \n",
    "        else:\n",
    "            if i< middle:\n",
    "                temp[k]= tab[i]\n",
    "                i= i+1\n",
    "            else:\n",
    "                temp[k]=tab[j]\n",
    "                j= j+1\n",
    "    for k in range (start, end):\n",
    "        tab [k]= temp[k]\n",
    "                \n",
    "\n",
    "    \n",
    "   \n",
    "    \n",
    "   "
   ]
  },
  {
   "cell_type": "code",
   "execution_count": 35,
   "metadata": {
    "scrolled": false
   },
   "outputs": [
    {
     "name": "stdout",
     "output_type": "stream",
     "text": [
      "[14, 11, 10, 2, 20, 6, 9, 8, 19, 7, 12, 18, 5, 3, 13, 15, 0, 1, 16, 4, 17]\n",
      "after [0, 1, 2, 3, 4, 5, 6, 7, 8, 9, 10, 11, 12, 13, 14, 15, 16, 17, 18, 19, 20]\n"
     ]
    }
   ],
   "source": [
    "random_array_msr =  generate_random_array()\n",
    "print(random_array_msr)\n",
    "\n",
    "merge_sort(random_array_msr)\n",
    "\n",
    "print('after', random_array_msr)"
   ]
  },
  {
   "cell_type": "markdown",
   "metadata": {},
   "source": [
    "## 1.2 Tri quick sort"
   ]
  },
  {
   "cell_type": "code",
   "execution_count": 2,
   "metadata": {},
   "outputs": [
    {
     "data": {
      "image/jpeg": "[encoded data removed]",
      "text/html": [
       "\n",
       "        <iframe\n",
       "            width=\"900\"\n",
       "            height=\"600\"\n",
       "            src=\"https://www.youtube.com/embed/ywWBy6J5gz8\"\n",
       "            frameborder=\"0\"\n",
       "            allowfullscreen\n",
       "            \n",
       "        ></iframe>\n",
       "        "
      ],
      "text/plain": [
       "<IPython.lib.display.YouTubeVideo at 0x7f60be67e710>"
      ]
     },
     "execution_count": 2,
     "metadata": {},
     "output_type": "execute_result"
    }
   ],
   "source": [
    "from IPython.display import YouTubeVideo\n",
    "\n",
    "YouTubeVideo('ywWBy6J5gz8', height=600, width=900)"
   ]
  },
  {
   "cell_type": "markdown",
   "metadata": {},
   "source": [
    "**Un pseudocode possible** \n",
    "\n",
    "```\n",
    "tri_rapide(tableau T, entier nb):\n",
    "    tri_rapide_recursif(T,0,nb-1)\n",
    "\n",
    "\n",
    "tri_rapide_recursif(tableau T, entier premier, entier dernier)\n",
    "    si premier < dernier alors\n",
    "        pivot := partitionner(T, premier, dernier)\n",
    "        tri_rapide_recursif(T, premier, pivot-1)\n",
    "        tri_rapide_recursif(T, pivot+1, dernier)\n",
    "    fin si\n",
    "\n",
    "\n",
    "partitionner(tableau T, entier premier, entier dernier)\n",
    "    pivot := T[premier]\n",
    "    i := premier\n",
    "    j := dernier\n",
    "    tant que i <= j faire\n",
    "        si T[i] <= pivot alors \n",
    "            i := i+1\n",
    "        sinon\n",
    "            si T[j] > pivot alors\n",
    "                j := j-1 \n",
    "            sinon\n",
    "                echanger(T[i],T[j])\n",
    "            finsi \n",
    "        finsi\n",
    "    fin tant que\n",
    "    echanger(t[first],t[j])\n",
    "    \n",
    "    retourner j      \n",
    "```"
   ]
  },
  {
   "cell_type": "code",
   "execution_count": 38,
   "metadata": {},
   "outputs": [],
   "source": [
    "def quick_sort(tab):\n",
    "    \"\"\"Divise le tableau en deux, trie chacune des sous-parties et fusionne\n",
    "    intelligemment les deux sous-parties triées. L'intelligence se trouve\n",
    "    dans la division du tableau.\"\"\"\n",
    "\n",
    "    quick_sort_r(tab, 0, len(tab)-1)\n",
    "    \n",
    "\n",
    "def quick_sort_r(tab, first, last):\n",
    "    if first < last :\n",
    "        pivot = partition(tab, first, last)\n",
    "        quick_sort_r(tab, first, pivot-1)\n",
    "        quick_sort_r(tab, pivot+1, last)\n",
    "        \n",
    "        \n",
    "def partition(tab, first, last):\n",
    "    pivot = tab[first]\n",
    "    i = first\n",
    "    j = last\n",
    "    while i <= j :\n",
    "        if tab[i] <= pivot :\n",
    "            i = i+1\n",
    "        elif tab[j] > pivot:\n",
    "                j = j-1\n",
    "        else:\n",
    "            tab[i], tab[j] = tab[j],tab[i]\n",
    "    \n",
    "    tab[first], tab[j] = tab[j], tab[first]\n",
    "    return j\n",
    "                "
   ]
  },
  {
   "cell_type": "code",
   "execution_count": 40,
   "metadata": {
    "scrolled": false
   },
   "outputs": [
    {
     "name": "stdout",
     "output_type": "stream",
     "text": [
      "[7, 19, 6, 4, 17, 10, 0, 5, 1, 11, 12, 13, 3, 20, 9, 8, 18, 15, 14, 16, 2]\n",
      "after [0, 1, 2, 3, 4, 5, 6, 7, 8, 9, 10, 11, 12, 13, 14, 15, 16, 17, 18, 19, 20]\n"
     ]
    }
   ],
   "source": [
    "random_array_msr =  generate_random_array()\n",
    "print(random_array_msr)\n",
    "\n",
    "quick_sort(random_array_msr)\n",
    "\n",
    "print('after', random_array_msr)"
   ]
  },
  {
   "cell_type": "markdown",
   "metadata": {},
   "source": [
    "# 3 Procedure ou fonction ?"
   ]
  },
  {
   "cell_type": "code",
   "execution_count": null,
   "metadata": {},
   "outputs": [],
   "source": [
    "# Python sort and sorted functions\n",
    "A = generate_random_array()\n",
    "print(id(A)) \n",
    "A.sort()\n",
    "print(id(A), id(sorted(A)))"
   ]
  }
 ],
 "metadata": {
  "kernelspec": {
   "display_name": "Python 3 (ipykernel)",
   "language": "python",
   "name": "python3"
  },
  "language_info": {
   "codemirror_mode": {
    "name": "ipython",
    "version": 3
   },
   "file_extension": ".py",
   "mimetype": "text/x-python",
   "name": "python",
   "nbconvert_exporter": "python",
   "pygments_lexer": "ipython3",
   "version": "3.10.12"
  }
 },
 "nbformat": 4,
 "nbformat_minor": 2
}
