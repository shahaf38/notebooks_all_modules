{
 "cells": [
  {
   "cell_type": "code",
   "execution_count": null,
   "id": "8eb87e6f",
   "metadata": {},
   "outputs": [],
   "source": [
    "def bubble (liste):\n",
    "    for namber in liste(-1:1):\n",
    "        for big in reng(0:-1):\n",
    "            if namber<big:\n",
    "                "
   ]
  }
 ],
 "metadata": {
  "kernelspec": {
   "display_name": "Python 3 (ipykernel)",
   "language": "python",
   "name": "python3"
  },
  "language_info": {
   "codemirror_mode": {
    "name": "ipython",
    "version": 3
   },
   "file_extension": ".py",
   "mimetype": "text/x-python",
   "name": "python",
   "nbconvert_exporter": "python",
   "pygments_lexer": "ipython3",
   "version": "3.10.12"
  }
 },
 "nbformat": 4,
 "nbformat_minor": 5
}
